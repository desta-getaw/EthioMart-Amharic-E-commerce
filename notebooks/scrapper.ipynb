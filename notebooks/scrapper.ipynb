{
 "cells": [
  {
   "cell_type": "code",
   "execution_count": 2,
   "id": "fe38e597",
   "metadata": {},
   "outputs": [
    {
     "name": "stdout",
     "output_type": "stream",
     "text": [
      "🚀 Starting Telegram scraping...\n",
      "🔌 Connected to Telegram. Scraping...\n",
      "--- Processing: ZemenExpress ---\n",
      "✅ Scraped 117 messages from @ZemenExpress\n",
      "--- Processing: nevacomputer ---\n",
      "✅ Scraped 92 messages from @nevacomputer\n",
      "--- Processing: qnashcom ---\n",
      "✅ Scraped 231 messages from @qnashcom\n",
      "--- Processing: helloomarketethiopia ---\n",
      "✅ Scraped 276 messages from @helloomarketethiopia\n",
      "--- Processing: modernshoppingcenter ---\n",
      "✅ Scraped 80 messages from @modernshoppingcenter\n",
      "📁 Saved raw scraped data to 'data/scraped_data.csv'\n",
      "🧹 Cleaning text...\n",
      "✅ Preprocessing done. Saved to 'data/preprocessed_data.csv'\n",
      "\n",
      "📊 Sample of Cleaned Data\n"
     ]
    },
    {
     "data": {
      "application/vnd.microsoft.datawrangler.viewer.v0+json": {
       "columns": [
        {
         "name": "index",
         "rawType": "int64",
         "type": "integer"
        },
        {
         "name": "channel_name",
         "rawType": "object",
         "type": "string"
        },
        {
         "name": "text_cleaned",
         "rawType": "object",
         "type": "string"
        },
        {
         "name": "views",
         "rawType": "int64",
         "type": "integer"
        }
       ],
       "ref": "5a0a8cee-0345-4fa1-b335-93dbda86bee8",
       "rows": [
        [
         "0",
         "ZemenExpress",
         "................................... Saachi Electric Kettle 👍Borosilicate Glass Body 👍Overheat protection 👍Automatic switch off 👍2200w ዋጋ፦ 💲🏷 2700 ብር ♦ውስን ፍሬ ነው ያለው 🏢 አድራሻ ♦ ቢሮ ቁ. S05/S06 💧💧💧💧 📲 0902660722 📲 0928460606 🔖 💬በTelegram ለማዘዝ ⤵ ይጠቀሙ🔽 ለተጨማሪ ማብራሪያ የቴሌግራም ገፃችን⤵ ...................................",
         "1532"
        ],
        [
         "1",
         "ZemenExpress",
         "................................... 3pcs Bottle Stopper 👍በማንኛውም ጠርሙስ ጫፍ የሚገጠም 👍ለዘይት እና መሰል ነገሮች መቀነሻ የሚሆን 👍በአግባቡ እየመጠንን ለመጠቀም ተመራጭ ዋጋ፦ 💲🏷 3ፍሬ➡ 400 ብር ♦ውስን ፍሬ ነው ያለው 🏢 አድራሻ ♦ ቢሮ ቁ. S05/S06 💧💧💧💧 📲 0902660722 📲 0928460606 🔖 💬በTelegram ለማዘዝ ⤵ ይጠቀሙ🔽 ለተጨማሪ ማብራሪያ የቴሌግራም ገፃችን⤵ ...................................",
         "2244"
        ],
        [
         "2",
         "ZemenExpress",
         "................................... 3pcs Bottle Stopper 👍በማንኛውም ጠርሙስ ጫፍ የሚገጠም 👍ለዘይት እና መሰል ነገሮች መቀነሻ የሚሆን 👍በአግባቡ እየመጠንን ለመጠቀም ተመራጭ ዋጋ፦ 💲🏷 3ፍሬ➡ 400 ብር ♦ውስን ፍሬ ነው ያለው 🏢 አድራሻ ♦ ቢሮ ቁ. S05/S06 💧💧💧💧 📲 0902660722 📲 0928460606 🔖 💬በTelegram ለማዘዝ ⤵ ይጠቀሙ🔽 ለተጨማሪ ማብራሪያ የቴሌግራም ገፃችን⤵ ...................................",
         "1891"
        ],
        [
         "3",
         "ZemenExpress",
         "................................... 1 pairs Sneaker Crease Protector ዋጋ፦ 🏷 400 ብር ♦ውስን ፍሬ ነው ያለው 🏢 አድራሻ ♦ ቢሮ ቁ. S05/S06 💧💧💧💧 📲 0902660722 📲 0928460606 🔖 💬በTelegram ለማዘዝ ⤵ ይጠቀሙ🔽 ለተጨማሪ ማብራሪያ የቴሌግራም ገፃችን⤵ ...................................",
         "2063"
        ],
        [
         "4",
         "ZemenExpress",
         "................................... 1 pairs Sneaker Crease Protector ዋጋ፦ 🏷 400 ብር ♦ውስን ፍሬ ነው ያለው 🏢 አድራሻ ♦ ቢሮ ቁ. S05/S06 💧💧💧💧 📲 0902660722 📲 0928460606 🔖 💬በTelegram ለማዘዝ ⤵ ይጠቀሙ🔽 ለተጨማሪ ማብራሪያ የቴሌግራም ገፃችን⤵ ...................................",
         "2208"
        ]
       ],
       "shape": {
        "columns": 3,
        "rows": 5
       }
      },
      "text/html": [
       "<div>\n",
       "<style scoped>\n",
       "    .dataframe tbody tr th:only-of-type {\n",
       "        vertical-align: middle;\n",
       "    }\n",
       "\n",
       "    .dataframe tbody tr th {\n",
       "        vertical-align: top;\n",
       "    }\n",
       "\n",
       "    .dataframe thead th {\n",
       "        text-align: right;\n",
       "    }\n",
       "</style>\n",
       "<table border=\"1\" class=\"dataframe\">\n",
       "  <thead>\n",
       "    <tr style=\"text-align: right;\">\n",
       "      <th></th>\n",
       "      <th>channel_name</th>\n",
       "      <th>text_cleaned</th>\n",
       "      <th>views</th>\n",
       "    </tr>\n",
       "  </thead>\n",
       "  <tbody>\n",
       "    <tr>\n",
       "      <th>0</th>\n",
       "      <td>ZemenExpress</td>\n",
       "      <td>................................... Saachi Ele...</td>\n",
       "      <td>1532</td>\n",
       "    </tr>\n",
       "    <tr>\n",
       "      <th>1</th>\n",
       "      <td>ZemenExpress</td>\n",
       "      <td>................................... 3pcs Bottl...</td>\n",
       "      <td>2244</td>\n",
       "    </tr>\n",
       "    <tr>\n",
       "      <th>2</th>\n",
       "      <td>ZemenExpress</td>\n",
       "      <td>................................... 3pcs Bottl...</td>\n",
       "      <td>1891</td>\n",
       "    </tr>\n",
       "    <tr>\n",
       "      <th>3</th>\n",
       "      <td>ZemenExpress</td>\n",
       "      <td>................................... 1 pairs Sn...</td>\n",
       "      <td>2063</td>\n",
       "    </tr>\n",
       "    <tr>\n",
       "      <th>4</th>\n",
       "      <td>ZemenExpress</td>\n",
       "      <td>................................... 1 pairs Sn...</td>\n",
       "      <td>2208</td>\n",
       "    </tr>\n",
       "  </tbody>\n",
       "</table>\n",
       "</div>"
      ],
      "text/plain": [
       "   channel_name                                       text_cleaned  views\n",
       "0  ZemenExpress  ................................... Saachi Ele...   1532\n",
       "1  ZemenExpress  ................................... 3pcs Bottl...   2244\n",
       "2  ZemenExpress  ................................... 3pcs Bottl...   1891\n",
       "3  ZemenExpress  ................................... 1 pairs Sn...   2063\n",
       "4  ZemenExpress  ................................... 1 pairs Sn...   2208"
      ]
     },
     "metadata": {},
     "output_type": "display_data"
    },
    {
     "name": "stdout",
     "output_type": "stream",
     "text": [
      "\n",
      "🎲 Random Sample\n"
     ]
    },
    {
     "data": {
      "application/vnd.microsoft.datawrangler.viewer.v0+json": {
       "columns": [
        {
         "name": "index",
         "rawType": "int64",
         "type": "integer"
        },
        {
         "name": "channel_name",
         "rawType": "object",
         "type": "string"
        },
        {
         "name": "text_cleaned",
         "rawType": "object",
         "type": "string"
        },
        {
         "name": "views",
         "rawType": "int64",
         "type": "integer"
        }
       ],
       "ref": "1dd142a6-a946-4380-80f6-264f268a8764",
       "rows": [
        [
         "424",
         "qnashcom",
         "⚡ **Waterproof Tape ለሮቶ፥ለጣሪያ እና ለቧንቧ leakage መጠገኛ** for Pipe Leakage for Roof Water Leakage Solution Aluminium Foil Tape Waterproof Adhesive Tape Sealing Butyl Rubber Tape for Surface Crack, Pipe Rupture .. 5 meter .. 💲 ዋጋ፦ **850 ብር** ውስን ፍሬ ነው የቀረው ❌❌ Limited stock ❌❌ Telegram - 🔼ጥራት ዋስትና 🛍 ቅናሽ 🏬 አድራሻ ፦ ቁጥር 1 :- **መገናኛ ዘፍመሽ ግራንድ ሞል 3 ተኛ ፎቅ ቁጥር 329** ቁጥር 2 :- **ጀሞ 1 ከለላ ህንፃ ግራውንድ ለይ G07 ** ❌❌ **ማሳሰብያ**: ሱቃችን ሲመጡ ትክክለኛ የኛ ሱቅ መሆኑ ያረጋግጡ የራሳችን ሎጎ መኖሩን እና 329 / G07 መሆኑ ያረጋግጡ ! ስልክ: 📱0946966440 📱0992606060 📱0905464599",
         "14972"
        ],
        [
         "486",
         "helloomarketethiopia",
         "100% የተፈሯዊ ሞሪንጋ ለጤናማ ህይወት ለማዘዝ 0974312223 ይደውሉ ወይም ይጠቀሙ! መጠን: 100ግ",
         "2306"
        ],
        [
         "549",
         "helloomarketethiopia",
         "እንኳን ለከተራ እና ለጥምቀት በዓል በሰላም አደረሰዎ! ሃሎ ማርኬት!",
         "3557"
        ],
        [
         "247",
         "qnashcom",
         "🟢Portable Sealing Machine 🔼Button Switch ➡ east to use ⚠ ይዞ ለመንቀሳቀስ ምቹ ዋጋ፦ **600 ብር** ውስን ፍሬ ነው የቀረው ❌❌ Telegram - ⚡ጥራት 🔼 ዋስትና 🛍 ቅናሽ 🏬 አድራሻ ፦ 🗺ቁጥር 1 :- **መገናኛ ዘፍመሽ ግራንድ ሞል 3 ተኛ ፎቅ ቁጥር 329 ** 🗺ቁጥር 2 :- **ጀሞ 1 ከለላ ህንፃ ግራውንድ ለይ G07 ** ❌❌ **ማሳሰብያ**: ሱቃችን ሲመጡ ትክክለኛ የኛ ሱቅ መሆኑ ያረጋግጡ የራሳችን ሎጎ መኖሩን እና 329 / G07 መሆኑ ያረጋግጡ ! ስልክ: 📱 0946966440 📱 0992606060 📱 0905464599",
         "8398"
        ],
        [
         "40",
         "ZemenExpress",
         "Garlic press Chopper 👍Kitchen ginger garlic press.Quick grinding.Saving you time. 👍Manual extrusion and grinding. 👍Stainless steel material.Food grade safety material.Durable and easy to clean. 👍Curved plastic handle.Comfortable to use. ዋጋ፦ 🏷 350 ብር ♦ውስን ፍሬ ነው ያለው 😀😀😀 🏢 አድራሻ ♦ ቢሮ ቁ. S05/S06 💧💧💧💧 📲 0902660722 📲 0928460606 🔖 💬በTelegram ለማዘዝ ⤵ ይጠቀሙ🔽 ለተጨማሪ ማብራሪያ የቴሌግራም ገፃችን⤵ ...................................",
         "3507"
        ]
       ],
       "shape": {
        "columns": 3,
        "rows": 5
       }
      },
      "text/html": [
       "<div>\n",
       "<style scoped>\n",
       "    .dataframe tbody tr th:only-of-type {\n",
       "        vertical-align: middle;\n",
       "    }\n",
       "\n",
       "    .dataframe tbody tr th {\n",
       "        vertical-align: top;\n",
       "    }\n",
       "\n",
       "    .dataframe thead th {\n",
       "        text-align: right;\n",
       "    }\n",
       "</style>\n",
       "<table border=\"1\" class=\"dataframe\">\n",
       "  <thead>\n",
       "    <tr style=\"text-align: right;\">\n",
       "      <th></th>\n",
       "      <th>channel_name</th>\n",
       "      <th>text_cleaned</th>\n",
       "      <th>views</th>\n",
       "    </tr>\n",
       "  </thead>\n",
       "  <tbody>\n",
       "    <tr>\n",
       "      <th>424</th>\n",
       "      <td>qnashcom</td>\n",
       "      <td>⚡ **Waterproof Tape ለሮቶ፥ለጣሪያ እና ለቧንቧ leakage መ...</td>\n",
       "      <td>14972</td>\n",
       "    </tr>\n",
       "    <tr>\n",
       "      <th>486</th>\n",
       "      <td>helloomarketethiopia</td>\n",
       "      <td>100% የተፈሯዊ ሞሪንጋ ለጤናማ ህይወት ለማዘዝ 0974312223 ይደውሉ...</td>\n",
       "      <td>2306</td>\n",
       "    </tr>\n",
       "    <tr>\n",
       "      <th>549</th>\n",
       "      <td>helloomarketethiopia</td>\n",
       "      <td>እንኳን ለከተራ እና ለጥምቀት በዓል በሰላም አደረሰዎ! ሃሎ ማርኬት!</td>\n",
       "      <td>3557</td>\n",
       "    </tr>\n",
       "    <tr>\n",
       "      <th>247</th>\n",
       "      <td>qnashcom</td>\n",
       "      <td>🟢Portable Sealing Machine 🔼Button Switch ➡ eas...</td>\n",
       "      <td>8398</td>\n",
       "    </tr>\n",
       "    <tr>\n",
       "      <th>40</th>\n",
       "      <td>ZemenExpress</td>\n",
       "      <td>Garlic press Chopper 👍Kitchen ginger garlic pr...</td>\n",
       "      <td>3507</td>\n",
       "    </tr>\n",
       "  </tbody>\n",
       "</table>\n",
       "</div>"
      ],
      "text/plain": [
       "             channel_name                                       text_cleaned  \\\n",
       "424              qnashcom  ⚡ **Waterproof Tape ለሮቶ፥ለጣሪያ እና ለቧንቧ leakage መ...   \n",
       "486  helloomarketethiopia  100% የተፈሯዊ ሞሪንጋ ለጤናማ ህይወት ለማዘዝ 0974312223 ይደውሉ...   \n",
       "549  helloomarketethiopia        እንኳን ለከተራ እና ለጥምቀት በዓል በሰላም አደረሰዎ! ሃሎ ማርኬት!   \n",
       "247              qnashcom  🟢Portable Sealing Machine 🔼Button Switch ➡ eas...   \n",
       "40           ZemenExpress  Garlic press Chopper 👍Kitchen ginger garlic pr...   \n",
       "\n",
       "     views  \n",
       "424  14972  \n",
       "486   2306  \n",
       "549   3557  \n",
       "247   8398  \n",
       "40    3507  "
      ]
     },
     "metadata": {},
     "output_type": "display_data"
    },
    {
     "name": "stdout",
     "output_type": "stream",
     "text": [
      "\n",
      "📉 Last Rows\n"
     ]
    },
    {
     "data": {
      "application/vnd.microsoft.datawrangler.viewer.v0+json": {
       "columns": [
        {
         "name": "index",
         "rawType": "int64",
         "type": "integer"
        },
        {
         "name": "channel_name",
         "rawType": "object",
         "type": "string"
        },
        {
         "name": "text_cleaned",
         "rawType": "object",
         "type": "string"
        },
        {
         "name": "views",
         "rawType": "int64",
         "type": "integer"
        }
       ],
       "ref": "1355222a-2fea-463c-8d6d-153afe452c33",
       "rows": [
        [
         "791",
         "modernshoppingcenter",
         "**ቴሌግራም****🫐**** ** \"በአዲስ ነገረ ሁሌም ቀዳሚዏች ነን\" **🔠🔠🔠🔠🔠 🔠🔠🔠🔠🔠 🔤 **ኳሊቲ የሆነ ተች እስቶቭ ****🔤**** 3500watt የሆነ ****🔤**** ፍሳሽ የማያስገባ ****🔤**** Timer እና Lock የተገጠመለት ****🔤**** ለማንኛውም ድስት የሚሆን ****🔤**** የራሱ ፋን የተገጠመለት ****🔤**** ለአጠቃቀም ቀላል በ****📥**** ********3800******** ****☃**** የቲክ ቶክ ፔጃችንን ለማግኘት** ሊንኩን ይጫኑ **⬇**** ** **** **0924743736** **** **0974978584** በስራችን ላይ ቅሬታ ካለዎት ብቻ በዚህ ስልክ ደዉለዉ ያሳዉቁን። ****🔽**** ******** **0961373839** ****✈**** የመረጡትን እቃ ለማዘዝ ከታች ባለዉ የቴሌግራም አድራሻ ይላኩልን ****💬**** ** ****💬**** ** **🏍🏍**አዲስ አበባ ዉስጥ ከ150ብር እስከ 200ብር ብቻ በማስከፈል ያሉበት ድረስ በፈጣን ሞተረኞቻችን እንልክልዏታለን። ****⚡****⚡**** ለክፍለ ሀገር ደንበኞቻችን በመነሐሪያ በኩል አድርገን በሹፌር እንልካለን። ****❓**** አድራሻ ቁጥር ****1⃣**** = ጉርድሾላ ከሴንቸሪ ሞል ትንሽ ዝቅ እንዳሉ ( ሆሊ ሲቲ ሴንተር ሞል ) ላይ እንደገቡ ፊትለፊት ከሊፍቱ በግራ በኩል ሚዛን ላይ M06 ቁጥር ****2⃣**** = ጀሞ መስታወት ፋብሪካ ጭስ መዉጫዉ ፊት ለፊት ( ራሐ ሞል ) ግራዉንድ ፍሎር ከደረጃዉ ጎን RM G-06 (ትልቁ ሚና ፈርኒቸር ያለበት ህንፃ) ****⭐**** \"በሞደርን እቃወዏች ሂወትዎን ሞደርናይዝ ያድርጉ \"****⭐**",
         "16122"
        ],
        [
         "792",
         "modernshoppingcenter",
         "**ቴሌግራም****⭐**** **** \"በአዲስ ነገር ሁሌም ቀዳሚዎች ነን\" ****⭐****የሻይ ቅጠል መንከሪያ ****⭐****ለሻይ ቅመም የሚሆን ****⭐****የማይዝግ ስቴንለስ ስቲል ****⭐****የራሱ ማንጠልጠያ ያለዉ ****⭐****በተለያየ ቅርፅ የቀረበ ****⭐****ለአጠቃቀም ቀላል በ****📥**** ********250******** ****☃**** የቲክ ቶክ ፔጃችንን ለማግኘት ሊንኩን ይጫኑ ****⬇**** **** ******** ****0924743736**** ******** ****0974978584**** በስራችን ላይ ቅሬታ ካለዎት ብቻ በዚህ ስልክ ደዉለዉ ያሳዉቁን። ****🔽**** ******** ****0961373839**** ****✈**** የመረጡትን እቃ ለማዘዝ ከታች ባለዉ የቴሌግራም አድራሻ ይላኩልን ****💬**** **** ****💬**** **** ** **🏍****🏍****አዲስ አበባ ዉስጥ ከ150ብር እስከ 200ብር ብቻ በማስከፈል ያሉበት ድረስ በፈጣን ሞተረኞቻችን እንልክልዏታለን። ****⚡****⚡**** ለክፍለ ሀገር ደንበኞቻችን በመነሐሪያ በኩል አድርገን በሹፌር እንልካለን። ****❓**** አድራሻ ቁጥር ****1⃣**** = ጉርድሾላ ከሴንቸሪ ሞል ትንሽ ዝቅ እንዳሉ ( ሆሊ ሲቲ ሴንተር ሞል ) ላይ እንደገቡ ፊትለፊት ከሊፍቱ በግራ በኩል ሚዛን ላይ M06 ቁጥር ****2⃣**** = ጀሞ መስታወት ፋብሪካ ጭስ መዉጫዉ ፊት ለፊት ( ራሐ ሞል ) ግራዉንድ ፍሎር ከደረጃዉ ጎን RM G-06 (ትልቁ ሚና ፈርኒቸር ያለበት ህንፃ) ****⭐**** \"በሞደርን እቃወዏች ሂወትዎን ሞደርናይዝ ያድርጉ \"****⭐**",
         "14669"
        ],
        [
         "793",
         "modernshoppingcenter",
         "**ቴሌግራም****⭐**** **** \"በአዲስ ነገረ ሁሌም ቀዳሚዏች ነን\" ****🔠****🔠****🔠****🔠****🔠****🔠****🔠**** ******** 2 slice electric toaster ******** ሙቀቱን መቆጣጠሪያ ያለው ******** 700 watt የሆነ ******** ለአጠቃቀም ቀላል ******** LIMITED STOCK ******** በ ****📥**** ********3300******** 🚘🅿በ 2ቱም ቅርንጫፎቻችን አስተማማኝ የመኪና ማቆሚያ ከበቂ ጥበቃ ጋር አለን።🛻 ****☃**** የቲክ ቶክ ፔጃችንን ለማግኘት ሊንኩን ይጫኑ ****⬇**** **** ******** ****0924743736**** ******** ****0974978584**** በስራችን ላይ ቅሬታ ካለዎት ብቻ በዚህ ስልክ ደዉለዉ ያሳዉቁን። ****🎄**** ******** ****0961373839**** ** **✈**** የመረጡትን እቃ ለማዘዝ ከታች ባለዉ የቴሌግራም አድራሻ ይላኩልን ****0924743736**** / **** ** ****0974978584**** / **** ****🚚**** አዲስ አበባ ዉስጥ ከ100ብር እስከ 200ብር ብቻ በማስከፈል ያሉበት ድረስ በፈጣን ሞተረኞቻችን እንልክልዏታለን። ****🚗**** ለክፍለ ሀገር ደንበኞቻችን በመነሐሪያ በኩል አድርገን በሹፌር እንልካለን። ****❓**** አድራሻ ቁጥር ****1⃣**** = ጉርድሾላ ከሴንቸሪ ሞል ትንሽ ዝቅ እንዳሉ ( ሆሊ ሲቲ ሴንተር ሞል ) ላይ እንደገቡ ፊትለፊት ከሊፍቱ በግራ በኩል ሚዛን ላይ M06 ቁጥር ****2⃣**** = ጀሞ መስታወት ፋብሪካ ጭስ መዉጫዉ ፊት ለፊት ( ራሐ ሞል ) ግራዉንድ ፍሎር ከደረጃዉ ጎን RM G-06 (ትልቁ ሚና ፈርኒቸር ያለበት ህንፃ) ****⭐**** \"በሞደርን እቃወዏች ሂወትዎን ሞደርናይዝ ያድርጉ \"****⭐**",
         "15953"
        ],
        [
         "794",
         "modernshoppingcenter",
         "**ቴሌግራም****🍀**** **** \"በአዲስ ነገረ ሁሌም ቀዳሚዏች ነን\" ** **🔠****የእቃ ማጠቢያ ስፖንጅ ከነ ማስቀመጫዉ ****🔠****ዉስጡ ፈሳሽ ሳሙና የሚገባበት ****🔠****የፈሳሽ ሳሙና ብክነትን የሚቀንስ ****🔠****ለእጅ መታጠቢያ ሳሙናም የሚሆን ****🔠****በክብና ቅርፅ የቀረበ ****🔠****ለአጠቃቀም ቀላል በ****📥**** ** ******700******** ****☃**** የቲክ ቶክ ፔጃችንን ለማግኘት ሊንኩን ይጫኑ ****⬇**** **** ******** ****0924743736**** ******** ****0974978584**** በስራችን ላይ ቅሬታ ካለዎት ብቻ በዚህ ስልክ ደዉለዉ ያሳዉቁን። ****🔽**** ******** ****0961373839**** ****✈**** የመረጡትን እቃ ለማዘዝ ከታች ባለዉ የቴሌግራም አድራሻ ይላኩልን ****💬**** **** ****💬**** **** ****🏍****🏍****አዲስ አበባ ዉስጥ ከ150ብር እስከ 200ብር ብቻ በማስከፈል ያሉበት ድረስ በፈጣን ሞተረኞቻችን እንልክልዏታለን። ****⚡****⚡**** ለክፍለ ሀገር ደንበኞቻችን በመነሐሪያ በኩል አድርገን በሹፌር እንልካለን። ****❓**** አድራሻ ቁጥር ****1⃣**** = ጉርድሾላ ከሴንቸሪ ሞል ትንሽ ዝቅ እንዳሉ ( ሆሊ ሲቲ ሴንተር ሞል ) ላይ እንደገቡ ፊትለፊት ከሊፍቱ በግራ በኩል ሚዛን ላይ M06 ቁጥር ****2⃣**** = ጀሞ መስታወት ፋብሪካ ጭስ መዉጫዉ ፊት ለፊት ( ራሐ ሞል ) ግራዉንድ ፍሎር ከደረጃዉ ጎን RM G-06 (ትልቁ ሚና ፈርኒቸር ያለበት ህንፃ) ****⭐**** \"በሞደርን እቃወዏች ሂወትዎን ሞደርናይዝ ያድርጉ \"****⭐**",
         "16295"
        ],
        [
         "795",
         "modernshoppingcenter",
         "**ቴሌግራም****🍀**** **** \"በአዲስ ነገረ ሁሌም ቀዳሚዏች ነን\" ****🔤**** Manual vegetables slicer ****🔤**** ድንች፣ ካሮት፣ዝኩኒ፣ በቀላሉ መክተፋ የሚችል ****🔤**** 3 የተለያየ አይነት ቅርፅ ማውጫ ያለው ****🔤**** ጠንካራ አና ለስራ ፍጥነት የሚያመች ****🔤**** ለአጠቃቀም ሆነ ለማፅዳት በጣም ቀላል ****🔤**** ከጠረጴዛ ላይ የሚጣበቅ በ****📥**** ** ******1000******** ****☃**** የቲክ ቶክ ፔጃችንን ለማግኘት ሊንኩን ይጫኑ ****⬇**** **** ******** ****0924743736**** ******** ****0974978584**** በስራችን ላይ ቅሬታ ካለዎት ብቻ በዚህ ስልክ ደዉለዉ ያሳዉቁን። ****🔽**** ******** ****0961373839**** ****✈**** የመረጡትን እቃ ለማዘዝ ከታች ባለዉ የቴሌግራም አድራሻ ይላኩልን ****💬**** **** ****💬**** **** ****🏍****🏍****አዲስ አበባ ዉስጥ ከ150ብር እስከ 200ብር ብቻ በማስከፈል ያሉበት ድረስ በፈጣን ሞተረኞቻችን እንልክልዏታለን። ****⚡****⚡**** ለክፍለ ሀገር ደንበኞቻችን በመነሐሪያ በኩል አድርገን በሹፌር እንልካለን። ****❓**** አድራሻ ቁጥር ****1⃣**** = ጉርድሾላ ከሴንቸሪ ሞል ትንሽ ዝቅ እንዳሉ ( ሆሊ ሲቲ ሴንተር ሞል ) ላይ እንደገቡ ፊትለፊት ከሊፍቱ በግራ በኩል ሚዛን ላይ M06 ቁጥር ****2⃣**** = ጀሞ መስታወት ፋብሪካ ጭስ መዉጫዉ ፊት ለፊት ( ራሐ ሞል ) ግራዉንድ ፍሎር ከደረጃዉ ጎን RM G-06 (ትልቁ ሚና ፈርኒቸር ያለበት ህንፃ) ****⭐**** \"በሞደርን እቃወዏች ሂወትዎን ሞደርናይዝ ያድርጉ \"****⭐**",
         "16093"
        ]
       ],
       "shape": {
        "columns": 3,
        "rows": 5
       }
      },
      "text/html": [
       "<div>\n",
       "<style scoped>\n",
       "    .dataframe tbody tr th:only-of-type {\n",
       "        vertical-align: middle;\n",
       "    }\n",
       "\n",
       "    .dataframe tbody tr th {\n",
       "        vertical-align: top;\n",
       "    }\n",
       "\n",
       "    .dataframe thead th {\n",
       "        text-align: right;\n",
       "    }\n",
       "</style>\n",
       "<table border=\"1\" class=\"dataframe\">\n",
       "  <thead>\n",
       "    <tr style=\"text-align: right;\">\n",
       "      <th></th>\n",
       "      <th>channel_name</th>\n",
       "      <th>text_cleaned</th>\n",
       "      <th>views</th>\n",
       "    </tr>\n",
       "  </thead>\n",
       "  <tbody>\n",
       "    <tr>\n",
       "      <th>791</th>\n",
       "      <td>modernshoppingcenter</td>\n",
       "      <td>**ቴሌግራም****🫐**** ** \"በአዲስ ነገረ ሁሌም ቀዳሚዏች ነን\" **...</td>\n",
       "      <td>16122</td>\n",
       "    </tr>\n",
       "    <tr>\n",
       "      <th>792</th>\n",
       "      <td>modernshoppingcenter</td>\n",
       "      <td>**ቴሌግራም****⭐**** **** \"በአዲስ ነገር ሁሌም ቀዳሚዎች ነን\" ...</td>\n",
       "      <td>14669</td>\n",
       "    </tr>\n",
       "    <tr>\n",
       "      <th>793</th>\n",
       "      <td>modernshoppingcenter</td>\n",
       "      <td>**ቴሌግራም****⭐**** **** \"በአዲስ ነገረ ሁሌም ቀዳሚዏች ነን\" ...</td>\n",
       "      <td>15953</td>\n",
       "    </tr>\n",
       "    <tr>\n",
       "      <th>794</th>\n",
       "      <td>modernshoppingcenter</td>\n",
       "      <td>**ቴሌግራም****🍀**** **** \"በአዲስ ነገረ ሁሌም ቀዳሚዏች ነን\" ...</td>\n",
       "      <td>16295</td>\n",
       "    </tr>\n",
       "    <tr>\n",
       "      <th>795</th>\n",
       "      <td>modernshoppingcenter</td>\n",
       "      <td>**ቴሌግራም****🍀**** **** \"በአዲስ ነገረ ሁሌም ቀዳሚዏች ነን\" ...</td>\n",
       "      <td>16093</td>\n",
       "    </tr>\n",
       "  </tbody>\n",
       "</table>\n",
       "</div>"
      ],
      "text/plain": [
       "             channel_name                                       text_cleaned  \\\n",
       "791  modernshoppingcenter  **ቴሌግራም****🫐**** ** \"በአዲስ ነገረ ሁሌም ቀዳሚዏች ነን\" **...   \n",
       "792  modernshoppingcenter  **ቴሌግራም****⭐**** **** \"በአዲስ ነገር ሁሌም ቀዳሚዎች ነን\" ...   \n",
       "793  modernshoppingcenter  **ቴሌግራም****⭐**** **** \"በአዲስ ነገረ ሁሌም ቀዳሚዏች ነን\" ...   \n",
       "794  modernshoppingcenter  **ቴሌግራም****🍀**** **** \"በአዲስ ነገረ ሁሌም ቀዳሚዏች ነን\" ...   \n",
       "795  modernshoppingcenter  **ቴሌግራም****🍀**** **** \"በአዲስ ነገረ ሁሌም ቀዳሚዏች ነን\" ...   \n",
       "\n",
       "     views  \n",
       "791  16122  \n",
       "792  14669  \n",
       "793  15953  \n",
       "794  16295  \n",
       "795  16093  "
      ]
     },
     "metadata": {},
     "output_type": "display_data"
    }
   ],
   "source": [
    "# notebooks/scrapper.ipynb\n",
    "\n",
    "import sys\n",
    "import nest_asyncio\n",
    "from pathlib import Path\n",
    "import asyncio\n",
    "\n",
    "# Setup paths and async compatibility\n",
    "sys.path.append(str(Path(\"..\") / \"scripts\"))\n",
    "nest_asyncio.apply()\n",
    "\n",
    "# Import from scrapper module\n",
    "from scrapper import main, preprocess_dataframe\n",
    "\n",
    "print(\"🚀 Starting Telegram scraping...\")\n",
    "\n",
    "# Run the async scraper\n",
    "df_scraped = asyncio.run(main(limit=300))\n",
    "\n",
    "if not df_scraped.empty:\n",
    "    print(\"🧹 Cleaning text...\")\n",
    "    df_cleaned = preprocess_dataframe(df_scraped)\n",
    "\n",
    "    print(\"\\n📊 Sample of Cleaned Data\")\n",
    "    display(df_cleaned[['channel_name', 'text_cleaned', 'views']].head())\n",
    "\n",
    "    print(\"\\n🎲 Random Sample\")\n",
    "    display(df_cleaned[['channel_name', 'text_cleaned', 'views']].sample(5))\n",
    "\n",
    "    print(\"\\n📉 Last Rows\")\n",
    "    display(df_cleaned[['channel_name', 'text_cleaned', 'views']].tail())\n",
    "else:\n",
    "    print(\"❌ No data to preprocess.\")\n"
   ]
  }
 ],
 "metadata": {
  "kernelspec": {
   "display_name": ".desvenv",
   "language": "python",
   "name": "python3"
  },
  "language_info": {
   "codemirror_mode": {
    "name": "ipython",
    "version": 3
   },
   "file_extension": ".py",
   "mimetype": "text/x-python",
   "name": "python",
   "nbconvert_exporter": "python",
   "pygments_lexer": "ipython3",
   "version": "3.13.3"
  }
 },
 "nbformat": 4,
 "nbformat_minor": 5
}
