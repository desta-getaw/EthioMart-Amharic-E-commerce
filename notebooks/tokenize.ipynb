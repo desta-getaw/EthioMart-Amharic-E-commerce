{
 "cells": [
  {
   "cell_type": "code",
   "execution_count": null,
   "metadata": {},
   "outputs": [],
   "source": [
    "import pandas as pd\n",
    "import os\n",
    "import re\n",
    "\n",
    "json_folder = \"../data/preprocessed_data.csv\""
   ]
  },
  {
   "cell_type": "code",
   "execution_count": 11,
   "metadata": {},
   "outputs": [
    {
     "name": "stdout",
     "output_type": "stream",
     "text": [
      "Converted ../data/preprocessed_data.csv to ../data/preprocessed_data.json\n"
     ]
    }
   ],
   "source": [
    "import csv\n",
    "import json\n",
    "\n",
    "# Input and output file paths\n",
    "csv_file = '../data/preprocessed_data.csv'\n",
    "json_file = '../data/preprocessed_data.json'\n",
    "\n",
    "# Read CSV and convert to list of dictionaries\n",
    "with open(csv_file, mode='r', encoding='utf-8') as f:\n",
    "    reader = csv.DictReader(f)\n",
    "    data = list(reader)\n",
    "\n",
    "# Write data to JSON file\n",
    "with open(json_file, mode='w', encoding='utf-8') as f:\n",
    "    json.dump(data, f, indent=4)\n",
    "\n",
    "print(f\"Converted {csv_file} to {json_file}\")\n"
   ]
  },
  {
   "cell_type": "code",
   "execution_count": 12,
   "metadata": {},
   "outputs": [],
   "source": [
    "json_file = \"../data/preprocessed_data.json\""
   ]
  },
  {
   "cell_type": "code",
   "execution_count": 14,
   "metadata": {},
   "outputs": [
    {
     "name": "stdout",
     "output_type": "stream",
     "text": [
      "['preprocessed_data.json']\n"
     ]
    }
   ],
   "source": [
    "json_folder = '../data'  # ✅ this must be a folder, not a file\n",
    "json_files = [f for f in os.listdir(json_folder) if f.endswith(\".json\")]\n",
    "\n",
    "print(json_files)"
   ]
  },
  {
   "cell_type": "code",
   "execution_count": 15,
   "metadata": {},
   "outputs": [
    {
     "name": "stdout",
     "output_type": "stream",
     "text": [
      "  ﻿channel_name  message_id                 timestamp  \\\n",
      "0  ZemenExpress        6991 2025-06-21 16:35:51+00:00   \n",
      "1  ZemenExpress        6987 2025-06-21 08:07:31+00:00   \n",
      "2  ZemenExpress        6986 2025-06-21 08:07:11+00:00   \n",
      "3  ZemenExpress        6985 2025-06-21 05:42:46+00:00   \n",
      "4  ZemenExpress        6983 2025-06-21 05:42:19+00:00   \n",
      "\n",
      "                                             Message  views has_image  \\\n",
      "0  💥💥...................................💥💥\\n\\n📌Sa...   1272      TRUE   \n",
      "1  💥💥...................................💥💥\\n\\n3pc...   2100      TRUE   \n",
      "2  💥💥...................................💥💥\\n\\n3pc...   1765     FALSE   \n",
      "3  💥💥...................................💥💥\\n\\n📌1 ...   1958      TRUE   \n",
      "4  💥💥...................................💥💥\\n\\n📌1 ...   2094      TRUE   \n",
      "\n",
      "                                        text_cleaned            channel  \n",
      "0  ................................... Saachi Ele...  preprocessed_data  \n",
      "1  ................................... 3pcs Bottl...  preprocessed_data  \n",
      "2  ................................... 3pcs Bottl...  preprocessed_data  \n",
      "3  ................................... 1 pairs Sn...  preprocessed_data  \n",
      "4  ................................... 1 pairs Sn...  preprocessed_data  \n"
     ]
    }
   ],
   "source": [
    "# Initialize an empty list to store DataFrames\n",
    "dataframes = []\n",
    "\n",
    "# Loop through each JSON file, read it, and append it to the list\n",
    "for file in json_files:\n",
    "    file_path = os.path.join(json_folder, file)\n",
    "    # Read the JSON file into a DataFrame\n",
    "    df = pd.read_json(file_path, orient=\"records\", encoding=\"utf-8\")\n",
    "    # Add a column to identify the source channel\n",
    "    df[\"channel\"] = os.path.splitext(file)[0]  # File name without extension\n",
    "    # Append the DataFrame to the list\n",
    "    dataframes.append(df)\n",
    "\n",
    "# Merge all DataFrames into a single DataFrame\n",
    "merged_df = pd.concat(dataframes, ignore_index=True)\n",
    "\n",
    "# Display the merged DataFrame\n",
    "print(merged_df.head())"
   ]
  },
  {
   "cell_type": "code",
   "execution_count": 17,
   "metadata": {},
   "outputs": [
    {
     "name": "stdout",
     "output_type": "stream",
     "text": [
      "Index(['﻿channel_name', 'message_id', 'timestamp', 'Message', 'views',\n",
      "       'has_image', 'text_cleaned', 'channel'],\n",
      "      dtype='object')\n"
     ]
    }
   ],
   "source": [
    "print(merged_df.columns)\n"
   ]
  },
  {
   "cell_type": "code",
   "execution_count": 22,
   "metadata": {},
   "outputs": [
    {
     "name": "stdout",
     "output_type": "stream",
     "text": [
      "['\\ufeffchannel_name', 'message_id', 'timestamp', 'Message', 'views', 'has_image', 'text_cleaned', 'channel']\n"
     ]
    }
   ],
   "source": [
    "print(merged_df.columns.tolist())\n"
   ]
  },
  {
   "cell_type": "code",
   "execution_count": 25,
   "metadata": {},
   "outputs": [
    {
     "name": "stdout",
     "output_type": "stream",
     "text": [
      "Available columns in merged_df: ['\\ufeffchannel_name', 'message_id', 'timestamp', 'Message', 'views', 'has_image', 'text_cleaned', 'channel']\n"
     ]
    }
   ],
   "source": [
    "print(\"Available columns in merged_df:\", merged_df.columns.tolist())\n"
   ]
  },
  {
   "cell_type": "code",
   "execution_count": 26,
   "metadata": {},
   "outputs": [
    {
     "name": "stdout",
     "output_type": "stream",
     "text": [
      "                                        text_cleaned\n",
      "0  ................................... Saachi Ele...\n",
      "1  ................................... 3pcs Bottl...\n",
      "2  ................................... 3pcs Bottl...\n",
      "3  ................................... 1 pairs Sn...\n",
      "4  ................................... 1 pairs Sn...\n"
     ]
    }
   ],
   "source": [
    "filtered_df = merged_df[[\"text_cleaned\"]]\n",
    "print(filtered_df.head())\n"
   ]
  },
  {
   "cell_type": "code",
   "execution_count": 27,
   "metadata": {},
   "outputs": [
    {
     "name": "stdout",
     "output_type": "stream",
     "text": [
      "                                        cleaned_text\n",
      "0  Saachi Electric Kettle Borosilicate Glass Body...\n",
      "1  3pcs Bottle Stopper በማንኛውም ጠርሙስ ጫፍ የሚገጠም ለዘይት ...\n",
      "2  3pcs Bottle Stopper በማንኛውም ጠርሙስ ጫፍ የሚገጠም ለዘይት ...\n",
      "3  1 pairs Sneaker Crease Protector ዋጋ፦ 400 ብር ውስ...\n",
      "4  1 pairs Sneaker Crease Protector ዋጋ፦ 400 ብር ውስ...\n"
     ]
    }
   ],
   "source": [
    "import re\n",
    "import pandas as pd\n",
    "\n",
    "def clean_text(text):\n",
    "    if pd.isnull(text):\n",
    "        return \"\"\n",
    "    # Remove unwanted characters but keep Amharic punctuation\n",
    "    text = re.sub(r'[^\\w\\s፡።፣፤፥፦፧]', '', text)\n",
    "    text = re.sub(r'\\s+', ' ', text).strip()\n",
    "    return text\n",
    "\n",
    "merged_df[\"cleaned_text\"] = merged_df[\"Message\"].apply(clean_text)\n",
    "\n",
    "filtered_df = merged_df[[\"cleaned_text\"]]\n",
    "print(filtered_df.head())\n"
   ]
  },
  {
   "cell_type": "code",
   "execution_count": 28,
   "metadata": {},
   "outputs": [
    {
     "ename": "KeyError",
     "evalue": "'message'",
     "output_type": "error",
     "traceback": [
      "\u001b[31m---------------------------------------------------------------------------\u001b[39m",
      "\u001b[31mKeyError\u001b[39m                                  Traceback (most recent call last)",
      "\u001b[36mFile \u001b[39m\u001b[32md:\\Kifiya AI Master Training Program 5 6 &7\\week-4\\EthioMart-Amharic-E-commerce\\.desvenv\\Lib\\site-packages\\pandas\\core\\indexes\\base.py:3812\u001b[39m, in \u001b[36mIndex.get_loc\u001b[39m\u001b[34m(self, key)\u001b[39m\n\u001b[32m   3811\u001b[39m \u001b[38;5;28;01mtry\u001b[39;00m:\n\u001b[32m-> \u001b[39m\u001b[32m3812\u001b[39m     \u001b[38;5;28;01mreturn\u001b[39;00m \u001b[38;5;28;43mself\u001b[39;49m\u001b[43m.\u001b[49m\u001b[43m_engine\u001b[49m\u001b[43m.\u001b[49m\u001b[43mget_loc\u001b[49m\u001b[43m(\u001b[49m\u001b[43mcasted_key\u001b[49m\u001b[43m)\u001b[49m\n\u001b[32m   3813\u001b[39m \u001b[38;5;28;01mexcept\u001b[39;00m \u001b[38;5;167;01mKeyError\u001b[39;00m \u001b[38;5;28;01mas\u001b[39;00m err:\n",
      "\u001b[36mFile \u001b[39m\u001b[32mpandas/_libs/index.pyx:167\u001b[39m, in \u001b[36mpandas._libs.index.IndexEngine.get_loc\u001b[39m\u001b[34m()\u001b[39m\n",
      "\u001b[36mFile \u001b[39m\u001b[32mpandas/_libs/index.pyx:196\u001b[39m, in \u001b[36mpandas._libs.index.IndexEngine.get_loc\u001b[39m\u001b[34m()\u001b[39m\n",
      "\u001b[36mFile \u001b[39m\u001b[32mpandas/_libs/hashtable_class_helper.pxi:7088\u001b[39m, in \u001b[36mpandas._libs.hashtable.PyObjectHashTable.get_item\u001b[39m\u001b[34m()\u001b[39m\n",
      "\u001b[36mFile \u001b[39m\u001b[32mpandas/_libs/hashtable_class_helper.pxi:7096\u001b[39m, in \u001b[36mpandas._libs.hashtable.PyObjectHashTable.get_item\u001b[39m\u001b[34m()\u001b[39m\n",
      "\u001b[31mKeyError\u001b[39m: 'message'",
      "\nThe above exception was the direct cause of the following exception:\n",
      "\u001b[31mKeyError\u001b[39m                                  Traceback (most recent call last)",
      "\u001b[36mCell\u001b[39m\u001b[36m \u001b[39m\u001b[32mIn[28]\u001b[39m\u001b[32m, line 10\u001b[39m\n\u001b[32m      7\u001b[39m     text = re.sub(\u001b[33mr\u001b[39m\u001b[33m'\u001b[39m\u001b[33m\\\u001b[39m\u001b[33ms+\u001b[39m\u001b[33m'\u001b[39m, \u001b[33m'\u001b[39m\u001b[33m \u001b[39m\u001b[33m'\u001b[39m, text).strip()\n\u001b[32m      8\u001b[39m     \u001b[38;5;28;01mreturn\u001b[39;00m text\n\u001b[32m---> \u001b[39m\u001b[32m10\u001b[39m merged_df[\u001b[33m\"\u001b[39m\u001b[33mcleaned_text\u001b[39m\u001b[33m\"\u001b[39m] = \u001b[43mmerged_df\u001b[49m\u001b[43m[\u001b[49m\u001b[33;43m\"\u001b[39;49m\u001b[33;43mmessage\u001b[39;49m\u001b[33;43m\"\u001b[39;49m\u001b[43m]\u001b[49m.apply(clean_text)\n",
      "\u001b[36mFile \u001b[39m\u001b[32md:\\Kifiya AI Master Training Program 5 6 &7\\week-4\\EthioMart-Amharic-E-commerce\\.desvenv\\Lib\\site-packages\\pandas\\core\\frame.py:4107\u001b[39m, in \u001b[36mDataFrame.__getitem__\u001b[39m\u001b[34m(self, key)\u001b[39m\n\u001b[32m   4105\u001b[39m \u001b[38;5;28;01mif\u001b[39;00m \u001b[38;5;28mself\u001b[39m.columns.nlevels > \u001b[32m1\u001b[39m:\n\u001b[32m   4106\u001b[39m     \u001b[38;5;28;01mreturn\u001b[39;00m \u001b[38;5;28mself\u001b[39m._getitem_multilevel(key)\n\u001b[32m-> \u001b[39m\u001b[32m4107\u001b[39m indexer = \u001b[38;5;28;43mself\u001b[39;49m\u001b[43m.\u001b[49m\u001b[43mcolumns\u001b[49m\u001b[43m.\u001b[49m\u001b[43mget_loc\u001b[49m\u001b[43m(\u001b[49m\u001b[43mkey\u001b[49m\u001b[43m)\u001b[49m\n\u001b[32m   4108\u001b[39m \u001b[38;5;28;01mif\u001b[39;00m is_integer(indexer):\n\u001b[32m   4109\u001b[39m     indexer = [indexer]\n",
      "\u001b[36mFile \u001b[39m\u001b[32md:\\Kifiya AI Master Training Program 5 6 &7\\week-4\\EthioMart-Amharic-E-commerce\\.desvenv\\Lib\\site-packages\\pandas\\core\\indexes\\base.py:3819\u001b[39m, in \u001b[36mIndex.get_loc\u001b[39m\u001b[34m(self, key)\u001b[39m\n\u001b[32m   3814\u001b[39m     \u001b[38;5;28;01mif\u001b[39;00m \u001b[38;5;28misinstance\u001b[39m(casted_key, \u001b[38;5;28mslice\u001b[39m) \u001b[38;5;129;01mor\u001b[39;00m (\n\u001b[32m   3815\u001b[39m         \u001b[38;5;28misinstance\u001b[39m(casted_key, abc.Iterable)\n\u001b[32m   3816\u001b[39m         \u001b[38;5;129;01mand\u001b[39;00m \u001b[38;5;28many\u001b[39m(\u001b[38;5;28misinstance\u001b[39m(x, \u001b[38;5;28mslice\u001b[39m) \u001b[38;5;28;01mfor\u001b[39;00m x \u001b[38;5;129;01min\u001b[39;00m casted_key)\n\u001b[32m   3817\u001b[39m     ):\n\u001b[32m   3818\u001b[39m         \u001b[38;5;28;01mraise\u001b[39;00m InvalidIndexError(key)\n\u001b[32m-> \u001b[39m\u001b[32m3819\u001b[39m     \u001b[38;5;28;01mraise\u001b[39;00m \u001b[38;5;167;01mKeyError\u001b[39;00m(key) \u001b[38;5;28;01mfrom\u001b[39;00m\u001b[38;5;250m \u001b[39m\u001b[34;01merr\u001b[39;00m\n\u001b[32m   3820\u001b[39m \u001b[38;5;28;01mexcept\u001b[39;00m \u001b[38;5;167;01mTypeError\u001b[39;00m:\n\u001b[32m   3821\u001b[39m     \u001b[38;5;66;03m# If we have a listlike key, _check_indexing_error will raise\u001b[39;00m\n\u001b[32m   3822\u001b[39m     \u001b[38;5;66;03m#  InvalidIndexError. Otherwise we fall through and re-raise\u001b[39;00m\n\u001b[32m   3823\u001b[39m     \u001b[38;5;66;03m#  the TypeError.\u001b[39;00m\n\u001b[32m   3824\u001b[39m     \u001b[38;5;28mself\u001b[39m._check_indexing_error(key)\n",
      "\u001b[31mKeyError\u001b[39m: 'message'"
     ]
    }
   ],
   "source": [
    "import re\n",
    "\n",
    "def clean_text(text):\n",
    "    if pd.isnull(text):\n",
    "        return \"\"\n",
    "    text = re.sub(r'[^\\w\\s፡።፣፤፥፦፧]', '', text)  # Allow Amharic punctuation\n",
    "    text = re.sub(r'\\s+', ' ', text).strip()\n",
    "    return text\n",
    "\n",
    "merged_df[\"cleaned_text\"] = merged_df[\"message\"].apply(clean_text)\n"
   ]
  },
  {
   "cell_type": "code",
   "execution_count": 46,
   "metadata": {},
   "outputs": [],
   "source": [
    "filtered_df = merged_df[[\"cleaned_text\"]]\n"
   ]
  },
  {
   "cell_type": "code",
   "execution_count": 45,
   "metadata": {},
   "outputs": [],
   "source": [
    "filtered_df = merged_df[[\"cleaned_text\"]]"
   ]
  },
  {
   "cell_type": "code",
   "execution_count": 29,
   "metadata": {},
   "outputs": [
    {
     "data": {
      "application/vnd.microsoft.datawrangler.viewer.v0+json": {
       "columns": [
        {
         "name": "index",
         "rawType": "int64",
         "type": "integer"
        },
        {
         "name": "cleaned_text",
         "rawType": "object",
         "type": "string"
        }
       ],
       "ref": "04d73c77-f3b6-413f-ae79-50a1dbdd37f1",
       "rows": [
        [
         "0",
         "Saachi Electric Kettle Borosilicate Glass Body Overheat protection Automatic switch off 2200w ዋጋ፦ 2700 ብር ውስን ፍሬ ነው ያለው አድራሻ መገናኛ_መሰረት_ደፋር_ሞል_ሁለተኛ_ፎቅ ቢሮ ቁ S05S06 0902660722 0928460606 በTelegram ለማዘዝ ይጠቀሙ zemencallcenter zemenexpressadmin ለተጨማሪ ማብራሪያ የቴሌግራም ገፃችን httpstelegrammezemenexpress"
        ],
        [
         "1",
         "3pcs Bottle Stopper በማንኛውም ጠርሙስ ጫፍ የሚገጠም ለዘይት እና መሰል ነገሮች መቀነሻ የሚሆን በአግባቡ እየመጠንን ለመጠቀም ተመራጭ ዋጋ፦ 3ፍሬ 400 ብር ውስን ፍሬ ነው ያለው አድራሻ መገናኛ_መሰረት_ደፋር_ሞል_ሁለተኛ_ፎቅ ቢሮ ቁ S05S06 0902660722 0928460606 በTelegram ለማዘዝ ይጠቀሙ zemencallcenter zemenexpressadmin ለተጨማሪ ማብራሪያ የቴሌግራም ገፃችን httpstelegrammezemenexpress"
        ],
        [
         "2",
         "3pcs Bottle Stopper በማንኛውም ጠርሙስ ጫፍ የሚገጠም ለዘይት እና መሰል ነገሮች መቀነሻ የሚሆን በአግባቡ እየመጠንን ለመጠቀም ተመራጭ ዋጋ፦ 3ፍሬ 400 ብር ውስን ፍሬ ነው ያለው አድራሻ መገናኛ_መሰረት_ደፋር_ሞል_ሁለተኛ_ፎቅ ቢሮ ቁ S05S06 0902660722 0928460606 በTelegram ለማዘዝ ይጠቀሙ zemencallcenter zemenexpressadmin ለተጨማሪ ማብራሪያ የቴሌግራም ገፃችን httpstelegrammezemenexpress"
        ],
        [
         "3",
         "1 pairs Sneaker Crease Protector ዋጋ፦ 400 ብር ውስን ፍሬ ነው ያለው አድራሻ መገናኛ_መሰረት_ደፋር_ሞል_ሁለተኛ_ፎቅ ቢሮ ቁ S05S06 0902660722 0928460606 በTelegram ለማዘዝ ይጠቀሙ zemencallcenter zemenexpressadmin ለተጨማሪ ማብራሪያ የቴሌግራም ገፃችን httpstelegrammezemenexpress"
        ],
        [
         "4",
         "1 pairs Sneaker Crease Protector ዋጋ፦ 400 ብር ውስን ፍሬ ነው ያለው አድራሻ መገናኛ_መሰረት_ደፋር_ሞል_ሁለተኛ_ፎቅ ቢሮ ቁ S05S06 0902660722 0928460606 በTelegram ለማዘዝ ይጠቀሙ zemencallcenter zemenexpressadmin ለተጨማሪ ማብራሪያ የቴሌግራም ገፃችን httpstelegrammezemenexpress"
        ],
        [
         "5",
         "Imitation Volcano Humidifier with LED Light በኤሌክትሪክየሚሰራ ለቤት መልካም መዓዛን የሚሰጥ ዋጋ፦ 1400 ብር ውስን ፍሬ ነው ያለን አድራሻ መገናኛ_መሰረት_ደፋር_ሞል_ሁለተኛ_ፎቅ ቢሮ ቁ S05S06 0902660722 0928460606 በTelegram ለማዘዝ ይጠቀሙ zemencallcenter zemenexpressadmin ለተጨማሪ ማብራሪያ የቴሌግራም ገፃችን httpstelegrammezemenexpress"
        ],
        [
         "6",
         "Baby Carrier በፈለጉት አቅጣጫ ልጅዎን በምቾት ማዘል ያስችልዎታል ዋጋ፦ 2400 ብር ውስን ፍሬ ነው ያለን አድራሻ መገናኛ_መሰረት_ደፋር_ሞል_ሁለተኛ_ፎቅ ቢሮ ቁ S05S06 0902660722 0928460606 በTelegram ለማዘዝ ይጠቀሙ zemencallcenter zemenexpressadmin ለተጨማሪ ማብራሪያ የቴሌግራም ገፃችን httpstelegrammezemenexpress"
        ],
        [
         "7",
         "Smart Usb Ultrasonic Car And Home Air Humidifier With Colorful Led Light Original Highquality በኤሌክትሪክ የሚሰራ ለቤትና ለመኪና መልካም መዓዛን የሚሰጥ Elevate the comfort level within your living premises with this fantastic Green Lion Air Mist Humidifier ዋጋ፦ 1100 ብር ውስን ፍሬ ነው ያለን አድራሻ መገናኛ_መሰረት_ደፋር_ሞል_ሁለተኛ_ፎቅ ቢሮ ቁ S05S06 0902660722 0928460606 በTelegram ለማዘዝ ይጠቀሙ zemencallcenter zemenexpressadmin ለተጨማሪ ማብራሪያ የቴሌግራም ገፃችን httpstelegrammezemenexpress"
        ],
        [
         "8",
         "Smart Usb Ultrasonic Car And Home Air Humidifier With Colorful Led Light Original Highquality በኤሌክትሪክ የሚሰራ ለቤትና ለመኪና መልካም መዓዛን የሚሰጥ Elevate the comfort level within your living premises with this fantastic Green Lion Air Mist Humidifier ዋጋ፦ 1100 ብር ውስን ፍሬ ነው ያለን አድራሻ መገናኛ_መሰረት_ደፋር_ሞል_ሁለተኛ_ፎቅ ቢሮ ቁ S05S06 0902660722 0928460606 በTelegram ለማዘዝ ይጠቀሙ zemencallcenter zemenexpressadmin ለተጨማሪ ማብራሪያ የቴሌግራም ገፃችን httpstelegrammezemenexpress"
        ],
        [
         "9",
         "Baby Head Helmet Cotton Walk Safety Hat Breathable Headgear Toddler Antifall Pad This product is made of nontoxic cotton material It can be adjustable to fits all the different size of head The product is also breathable and the babys head will not be sultry and muggy when playing ዋጋ፦ 550 ብር ውስን ፍሬ ነው ያለን አድራሻ መገናኛ_መሰረት_ደፋር_ሞል_ሁለተኛ_ፎቅ ቢሮ ቁ S05S06 0902660722 0928460606 በTelegram ለማዘዝ ይጠቀሙ zemencallcenter zemenexpressadmin ለተጨማሪ ማብራሪያ የቴሌግራም ገፃችን httpstelegrammezemenexpress"
        ]
       ],
       "shape": {
        "columns": 1,
        "rows": 10
       }
      },
      "text/html": [
       "<div>\n",
       "<style scoped>\n",
       "    .dataframe tbody tr th:only-of-type {\n",
       "        vertical-align: middle;\n",
       "    }\n",
       "\n",
       "    .dataframe tbody tr th {\n",
       "        vertical-align: top;\n",
       "    }\n",
       "\n",
       "    .dataframe thead th {\n",
       "        text-align: right;\n",
       "    }\n",
       "</style>\n",
       "<table border=\"1\" class=\"dataframe\">\n",
       "  <thead>\n",
       "    <tr style=\"text-align: right;\">\n",
       "      <th></th>\n",
       "      <th>cleaned_text</th>\n",
       "    </tr>\n",
       "  </thead>\n",
       "  <tbody>\n",
       "    <tr>\n",
       "      <th>0</th>\n",
       "      <td>Saachi Electric Kettle Borosilicate Glass Body...</td>\n",
       "    </tr>\n",
       "    <tr>\n",
       "      <th>1</th>\n",
       "      <td>3pcs Bottle Stopper በማንኛውም ጠርሙስ ጫፍ የሚገጠም ለዘይት ...</td>\n",
       "    </tr>\n",
       "    <tr>\n",
       "      <th>2</th>\n",
       "      <td>3pcs Bottle Stopper በማንኛውም ጠርሙስ ጫፍ የሚገጠም ለዘይት ...</td>\n",
       "    </tr>\n",
       "    <tr>\n",
       "      <th>3</th>\n",
       "      <td>1 pairs Sneaker Crease Protector ዋጋ፦ 400 ብር ውስ...</td>\n",
       "    </tr>\n",
       "    <tr>\n",
       "      <th>4</th>\n",
       "      <td>1 pairs Sneaker Crease Protector ዋጋ፦ 400 ብር ውስ...</td>\n",
       "    </tr>\n",
       "    <tr>\n",
       "      <th>5</th>\n",
       "      <td>Imitation Volcano Humidifier with LED Light በኤ...</td>\n",
       "    </tr>\n",
       "    <tr>\n",
       "      <th>6</th>\n",
       "      <td>Baby Carrier በፈለጉት አቅጣጫ ልጅዎን በምቾት ማዘል ያስችልዎታል ...</td>\n",
       "    </tr>\n",
       "    <tr>\n",
       "      <th>7</th>\n",
       "      <td>Smart Usb Ultrasonic Car And Home Air Humidifi...</td>\n",
       "    </tr>\n",
       "    <tr>\n",
       "      <th>8</th>\n",
       "      <td>Smart Usb Ultrasonic Car And Home Air Humidifi...</td>\n",
       "    </tr>\n",
       "    <tr>\n",
       "      <th>9</th>\n",
       "      <td>Baby Head Helmet Cotton Walk Safety Hat Breath...</td>\n",
       "    </tr>\n",
       "  </tbody>\n",
       "</table>\n",
       "</div>"
      ],
      "text/plain": [
       "                                        cleaned_text\n",
       "0  Saachi Electric Kettle Borosilicate Glass Body...\n",
       "1  3pcs Bottle Stopper በማንኛውም ጠርሙስ ጫፍ የሚገጠም ለዘይት ...\n",
       "2  3pcs Bottle Stopper በማንኛውም ጠርሙስ ጫፍ የሚገጠም ለዘይት ...\n",
       "3  1 pairs Sneaker Crease Protector ዋጋ፦ 400 ብር ውስ...\n",
       "4  1 pairs Sneaker Crease Protector ዋጋ፦ 400 ብር ውስ...\n",
       "5  Imitation Volcano Humidifier with LED Light በኤ...\n",
       "6  Baby Carrier በፈለጉት አቅጣጫ ልጅዎን በምቾት ማዘል ያስችልዎታል ...\n",
       "7  Smart Usb Ultrasonic Car And Home Air Humidifi...\n",
       "8  Smart Usb Ultrasonic Car And Home Air Humidifi...\n",
       "9  Baby Head Helmet Cotton Walk Safety Hat Breath..."
      ]
     },
     "execution_count": 29,
     "metadata": {},
     "output_type": "execute_result"
    }
   ],
   "source": [
    "filtered_df.head(10)"
   ]
  },
  {
   "cell_type": "code",
   "execution_count": 7,
   "metadata": {},
   "outputs": [],
   "source": [
    "filtered_df = filtered_df.dropna(subset=\"cleaned_text\")"
   ]
  },
  {
   "cell_type": "code",
   "execution_count": 30,
   "metadata": {},
   "outputs": [
    {
     "data": {
      "application/vnd.microsoft.datawrangler.viewer.v0+json": {
       "columns": [
        {
         "name": "index",
         "rawType": "int64",
         "type": "integer"
        },
        {
         "name": "cleaned_text",
         "rawType": "object",
         "type": "string"
        }
       ],
       "ref": "10200de2-598f-4c6c-bc5f-eb871f2a4aa1",
       "rows": [
        [
         "0",
         "Saachi Electric Kettle Borosilicate Glass Body Overheat protection Automatic switch off 2200w ዋጋ፦ 2700 ብር ውስን ፍሬ ነው ያለው አድራሻ መገናኛ_መሰረት_ደፋር_ሞል_ሁለተኛ_ፎቅ ቢሮ ቁ S05S06 0902660722 0928460606 በTelegram ለማዘዝ ይጠቀሙ zemencallcenter zemenexpressadmin ለተጨማሪ ማብራሪያ የቴሌግራም ገፃችን httpstelegrammezemenexpress"
        ],
        [
         "1",
         "3pcs Bottle Stopper በማንኛውም ጠርሙስ ጫፍ የሚገጠም ለዘይት እና መሰል ነገሮች መቀነሻ የሚሆን በአግባቡ እየመጠንን ለመጠቀም ተመራጭ ዋጋ፦ 3ፍሬ 400 ብር ውስን ፍሬ ነው ያለው አድራሻ መገናኛ_መሰረት_ደፋር_ሞል_ሁለተኛ_ፎቅ ቢሮ ቁ S05S06 0902660722 0928460606 በTelegram ለማዘዝ ይጠቀሙ zemencallcenter zemenexpressadmin ለተጨማሪ ማብራሪያ የቴሌግራም ገፃችን httpstelegrammezemenexpress"
        ],
        [
         "2",
         "3pcs Bottle Stopper በማንኛውም ጠርሙስ ጫፍ የሚገጠም ለዘይት እና መሰል ነገሮች መቀነሻ የሚሆን በአግባቡ እየመጠንን ለመጠቀም ተመራጭ ዋጋ፦ 3ፍሬ 400 ብር ውስን ፍሬ ነው ያለው አድራሻ መገናኛ_መሰረት_ደፋር_ሞል_ሁለተኛ_ፎቅ ቢሮ ቁ S05S06 0902660722 0928460606 በTelegram ለማዘዝ ይጠቀሙ zemencallcenter zemenexpressadmin ለተጨማሪ ማብራሪያ የቴሌግራም ገፃችን httpstelegrammezemenexpress"
        ],
        [
         "3",
         "1 pairs Sneaker Crease Protector ዋጋ፦ 400 ብር ውስን ፍሬ ነው ያለው አድራሻ መገናኛ_መሰረት_ደፋር_ሞል_ሁለተኛ_ፎቅ ቢሮ ቁ S05S06 0902660722 0928460606 በTelegram ለማዘዝ ይጠቀሙ zemencallcenter zemenexpressadmin ለተጨማሪ ማብራሪያ የቴሌግራም ገፃችን httpstelegrammezemenexpress"
        ],
        [
         "4",
         "1 pairs Sneaker Crease Protector ዋጋ፦ 400 ብር ውስን ፍሬ ነው ያለው አድራሻ መገናኛ_መሰረት_ደፋር_ሞል_ሁለተኛ_ፎቅ ቢሮ ቁ S05S06 0902660722 0928460606 በTelegram ለማዘዝ ይጠቀሙ zemencallcenter zemenexpressadmin ለተጨማሪ ማብራሪያ የቴሌግራም ገፃችን httpstelegrammezemenexpress"
        ],
        [
         "5",
         "Imitation Volcano Humidifier with LED Light በኤሌክትሪክየሚሰራ ለቤት መልካም መዓዛን የሚሰጥ ዋጋ፦ 1400 ብር ውስን ፍሬ ነው ያለን አድራሻ መገናኛ_መሰረት_ደፋር_ሞል_ሁለተኛ_ፎቅ ቢሮ ቁ S05S06 0902660722 0928460606 በTelegram ለማዘዝ ይጠቀሙ zemencallcenter zemenexpressadmin ለተጨማሪ ማብራሪያ የቴሌግራም ገፃችን httpstelegrammezemenexpress"
        ],
        [
         "6",
         "Baby Carrier በፈለጉት አቅጣጫ ልጅዎን በምቾት ማዘል ያስችልዎታል ዋጋ፦ 2400 ብር ውስን ፍሬ ነው ያለን አድራሻ መገናኛ_መሰረት_ደፋር_ሞል_ሁለተኛ_ፎቅ ቢሮ ቁ S05S06 0902660722 0928460606 በTelegram ለማዘዝ ይጠቀሙ zemencallcenter zemenexpressadmin ለተጨማሪ ማብራሪያ የቴሌግራም ገፃችን httpstelegrammezemenexpress"
        ],
        [
         "7",
         "Smart Usb Ultrasonic Car And Home Air Humidifier With Colorful Led Light Original Highquality በኤሌክትሪክ የሚሰራ ለቤትና ለመኪና መልካም መዓዛን የሚሰጥ Elevate the comfort level within your living premises with this fantastic Green Lion Air Mist Humidifier ዋጋ፦ 1100 ብር ውስን ፍሬ ነው ያለን አድራሻ መገናኛ_መሰረት_ደፋር_ሞል_ሁለተኛ_ፎቅ ቢሮ ቁ S05S06 0902660722 0928460606 በTelegram ለማዘዝ ይጠቀሙ zemencallcenter zemenexpressadmin ለተጨማሪ ማብራሪያ የቴሌግራም ገፃችን httpstelegrammezemenexpress"
        ],
        [
         "8",
         "Smart Usb Ultrasonic Car And Home Air Humidifier With Colorful Led Light Original Highquality በኤሌክትሪክ የሚሰራ ለቤትና ለመኪና መልካም መዓዛን የሚሰጥ Elevate the comfort level within your living premises with this fantastic Green Lion Air Mist Humidifier ዋጋ፦ 1100 ብር ውስን ፍሬ ነው ያለን አድራሻ መገናኛ_መሰረት_ደፋር_ሞል_ሁለተኛ_ፎቅ ቢሮ ቁ S05S06 0902660722 0928460606 በTelegram ለማዘዝ ይጠቀሙ zemencallcenter zemenexpressadmin ለተጨማሪ ማብራሪያ የቴሌግራም ገፃችን httpstelegrammezemenexpress"
        ],
        [
         "9",
         "Baby Head Helmet Cotton Walk Safety Hat Breathable Headgear Toddler Antifall Pad This product is made of nontoxic cotton material It can be adjustable to fits all the different size of head The product is also breathable and the babys head will not be sultry and muggy when playing ዋጋ፦ 550 ብር ውስን ፍሬ ነው ያለን አድራሻ መገናኛ_መሰረት_ደፋር_ሞል_ሁለተኛ_ፎቅ ቢሮ ቁ S05S06 0902660722 0928460606 በTelegram ለማዘዝ ይጠቀሙ zemencallcenter zemenexpressadmin ለተጨማሪ ማብራሪያ የቴሌግራም ገፃችን httpstelegrammezemenexpress"
        ]
       ],
       "shape": {
        "columns": 1,
        "rows": 10
       }
      },
      "text/html": [
       "<div>\n",
       "<style scoped>\n",
       "    .dataframe tbody tr th:only-of-type {\n",
       "        vertical-align: middle;\n",
       "    }\n",
       "\n",
       "    .dataframe tbody tr th {\n",
       "        vertical-align: top;\n",
       "    }\n",
       "\n",
       "    .dataframe thead th {\n",
       "        text-align: right;\n",
       "    }\n",
       "</style>\n",
       "<table border=\"1\" class=\"dataframe\">\n",
       "  <thead>\n",
       "    <tr style=\"text-align: right;\">\n",
       "      <th></th>\n",
       "      <th>cleaned_text</th>\n",
       "    </tr>\n",
       "  </thead>\n",
       "  <tbody>\n",
       "    <tr>\n",
       "      <th>0</th>\n",
       "      <td>Saachi Electric Kettle Borosilicate Glass Body...</td>\n",
       "    </tr>\n",
       "    <tr>\n",
       "      <th>1</th>\n",
       "      <td>3pcs Bottle Stopper በማንኛውም ጠርሙስ ጫፍ የሚገጠም ለዘይት ...</td>\n",
       "    </tr>\n",
       "    <tr>\n",
       "      <th>2</th>\n",
       "      <td>3pcs Bottle Stopper በማንኛውም ጠርሙስ ጫፍ የሚገጠም ለዘይት ...</td>\n",
       "    </tr>\n",
       "    <tr>\n",
       "      <th>3</th>\n",
       "      <td>1 pairs Sneaker Crease Protector ዋጋ፦ 400 ብር ውስ...</td>\n",
       "    </tr>\n",
       "    <tr>\n",
       "      <th>4</th>\n",
       "      <td>1 pairs Sneaker Crease Protector ዋጋ፦ 400 ብር ውስ...</td>\n",
       "    </tr>\n",
       "    <tr>\n",
       "      <th>5</th>\n",
       "      <td>Imitation Volcano Humidifier with LED Light በኤ...</td>\n",
       "    </tr>\n",
       "    <tr>\n",
       "      <th>6</th>\n",
       "      <td>Baby Carrier በፈለጉት አቅጣጫ ልጅዎን በምቾት ማዘል ያስችልዎታል ...</td>\n",
       "    </tr>\n",
       "    <tr>\n",
       "      <th>7</th>\n",
       "      <td>Smart Usb Ultrasonic Car And Home Air Humidifi...</td>\n",
       "    </tr>\n",
       "    <tr>\n",
       "      <th>8</th>\n",
       "      <td>Smart Usb Ultrasonic Car And Home Air Humidifi...</td>\n",
       "    </tr>\n",
       "    <tr>\n",
       "      <th>9</th>\n",
       "      <td>Baby Head Helmet Cotton Walk Safety Hat Breath...</td>\n",
       "    </tr>\n",
       "  </tbody>\n",
       "</table>\n",
       "</div>"
      ],
      "text/plain": [
       "                                        cleaned_text\n",
       "0  Saachi Electric Kettle Borosilicate Glass Body...\n",
       "1  3pcs Bottle Stopper በማንኛውም ጠርሙስ ጫፍ የሚገጠም ለዘይት ...\n",
       "2  3pcs Bottle Stopper በማንኛውም ጠርሙስ ጫፍ የሚገጠም ለዘይት ...\n",
       "3  1 pairs Sneaker Crease Protector ዋጋ፦ 400 ብር ውስ...\n",
       "4  1 pairs Sneaker Crease Protector ዋጋ፦ 400 ብር ውስ...\n",
       "5  Imitation Volcano Humidifier with LED Light በኤ...\n",
       "6  Baby Carrier በፈለጉት አቅጣጫ ልጅዎን በምቾት ማዘል ያስችልዎታል ...\n",
       "7  Smart Usb Ultrasonic Car And Home Air Humidifi...\n",
       "8  Smart Usb Ultrasonic Car And Home Air Humidifi...\n",
       "9  Baby Head Helmet Cotton Walk Safety Hat Breath..."
      ]
     },
     "execution_count": 30,
     "metadata": {},
     "output_type": "execute_result"
    }
   ],
   "source": [
    "filtered_df.head(10)"
   ]
  },
  {
   "cell_type": "code",
   "execution_count": 31,
   "metadata": {},
   "outputs": [],
   "source": [
    "def remove_english(text):\n",
    "    # This regex removes English alphabets, but keeps numbers and specific punctuation\n",
    "    return re.sub(r\"[A-Za-z፦፤፥፦፧፨፩፪፫፬፭፮፯፰፱፲፳፴፵፶፷፸፹፺፻\\._]\", \"\", text)"
   ]
  },
  {
   "cell_type": "code",
   "execution_count": 32,
   "metadata": {},
   "outputs": [
    {
     "name": "stderr",
     "output_type": "stream",
     "text": [
      "C:\\Users\\getde\\AppData\\Local\\Temp\\ipykernel_28380\\1346610862.py:1: SettingWithCopyWarning: \n",
      "A value is trying to be set on a copy of a slice from a DataFrame.\n",
      "Try using .loc[row_indexer,col_indexer] = value instead\n",
      "\n",
      "See the caveats in the documentation: https://pandas.pydata.org/pandas-docs/stable/user_guide/indexing.html#returning-a-view-versus-a-copy\n",
      "  filtered_df[\"cleaned_text\"] = filtered_df[\"cleaned_text\"].apply(remove_english)\n"
     ]
    }
   ],
   "source": [
    "filtered_df[\"cleaned_text\"] = filtered_df[\"cleaned_text\"].apply(remove_english)"
   ]
  },
  {
   "cell_type": "code",
   "execution_count": 33,
   "metadata": {},
   "outputs": [
    {
     "data": {
      "application/vnd.microsoft.datawrangler.viewer.v0+json": {
       "columns": [
        {
         "name": "index",
         "rawType": "int64",
         "type": "integer"
        },
        {
         "name": "cleaned_text",
         "rawType": "object",
         "type": "string"
        }
       ],
       "ref": "55a13fa0-ac08-4710-90bb-e4ff06f3c9ff",
       "rows": [
        [
         "0",
         "           2200 ዋጋ 2700 ብር ውስን ፍሬ ነው ያለው አድራሻ መገናኛመሰረትደፋርሞልሁለተኛፎቅ ቢሮ ቁ 0506 0902660722 0928460606 በ ለማዘዝ ይጠቀሙ   ለተጨማሪ ማብራሪያ የቴሌግራም ገፃችን "
        ],
        [
         "1",
         "3   በማንኛውም ጠርሙስ ጫፍ የሚገጠም ለዘይት እና መሰል ነገሮች መቀነሻ የሚሆን በአግባቡ እየመጠንን ለመጠቀም ተመራጭ ዋጋ 3ፍሬ 400 ብር ውስን ፍሬ ነው ያለው አድራሻ መገናኛመሰረትደፋርሞልሁለተኛፎቅ ቢሮ ቁ 0506 0902660722 0928460606 በ ለማዘዝ ይጠቀሙ   ለተጨማሪ ማብራሪያ የቴሌግራም ገፃችን "
        ],
        [
         "2",
         "3   በማንኛውም ጠርሙስ ጫፍ የሚገጠም ለዘይት እና መሰል ነገሮች መቀነሻ የሚሆን በአግባቡ እየመጠንን ለመጠቀም ተመራጭ ዋጋ 3ፍሬ 400 ብር ውስን ፍሬ ነው ያለው አድራሻ መገናኛመሰረትደፋርሞልሁለተኛፎቅ ቢሮ ቁ 0506 0902660722 0928460606 በ ለማዘዝ ይጠቀሙ   ለተጨማሪ ማብራሪያ የቴሌግራም ገፃችን "
        ],
        [
         "3",
         "1     ዋጋ 400 ብር ውስን ፍሬ ነው ያለው አድራሻ መገናኛመሰረትደፋርሞልሁለተኛፎቅ ቢሮ ቁ 0506 0902660722 0928460606 በ ለማዘዝ ይጠቀሙ   ለተጨማሪ ማብራሪያ የቴሌግራም ገፃችን "
        ],
        [
         "4",
         "1     ዋጋ 400 ብር ውስን ፍሬ ነው ያለው አድራሻ መገናኛመሰረትደፋርሞልሁለተኛፎቅ ቢሮ ቁ 0506 0902660722 0928460606 በ ለማዘዝ ይጠቀሙ   ለተጨማሪ ማብራሪያ የቴሌግራም ገፃችን "
        ]
       ],
       "shape": {
        "columns": 1,
        "rows": 5
       }
      },
      "text/html": [
       "<div>\n",
       "<style scoped>\n",
       "    .dataframe tbody tr th:only-of-type {\n",
       "        vertical-align: middle;\n",
       "    }\n",
       "\n",
       "    .dataframe tbody tr th {\n",
       "        vertical-align: top;\n",
       "    }\n",
       "\n",
       "    .dataframe thead th {\n",
       "        text-align: right;\n",
       "    }\n",
       "</style>\n",
       "<table border=\"1\" class=\"dataframe\">\n",
       "  <thead>\n",
       "    <tr style=\"text-align: right;\">\n",
       "      <th></th>\n",
       "      <th>cleaned_text</th>\n",
       "    </tr>\n",
       "  </thead>\n",
       "  <tbody>\n",
       "    <tr>\n",
       "      <th>0</th>\n",
       "      <td>2200 ዋጋ 2700 ብር ውስን ፍሬ ነው ያለው አድራሻ ...</td>\n",
       "    </tr>\n",
       "    <tr>\n",
       "      <th>1</th>\n",
       "      <td>3   በማንኛውም ጠርሙስ ጫፍ የሚገጠም ለዘይት እና መሰል ነገሮች መቀነሻ...</td>\n",
       "    </tr>\n",
       "    <tr>\n",
       "      <th>2</th>\n",
       "      <td>3   በማንኛውም ጠርሙስ ጫፍ የሚገጠም ለዘይት እና መሰል ነገሮች መቀነሻ...</td>\n",
       "    </tr>\n",
       "    <tr>\n",
       "      <th>3</th>\n",
       "      <td>1     ዋጋ 400 ብር ውስን ፍሬ ነው ያለው አድራሻ መገናኛመሰረትደፋር...</td>\n",
       "    </tr>\n",
       "    <tr>\n",
       "      <th>4</th>\n",
       "      <td>1     ዋጋ 400 ብር ውስን ፍሬ ነው ያለው አድራሻ መገናኛመሰረትደፋር...</td>\n",
       "    </tr>\n",
       "  </tbody>\n",
       "</table>\n",
       "</div>"
      ],
      "text/plain": [
       "                                        cleaned_text\n",
       "0             2200 ዋጋ 2700 ብር ውስን ፍሬ ነው ያለው አድራሻ ...\n",
       "1  3   በማንኛውም ጠርሙስ ጫፍ የሚገጠም ለዘይት እና መሰል ነገሮች መቀነሻ...\n",
       "2  3   በማንኛውም ጠርሙስ ጫፍ የሚገጠም ለዘይት እና መሰል ነገሮች መቀነሻ...\n",
       "3  1     ዋጋ 400 ብር ውስን ፍሬ ነው ያለው አድራሻ መገናኛመሰረትደፋር...\n",
       "4  1     ዋጋ 400 ብር ውስን ፍሬ ነው ያለው አድራሻ መገናኛመሰረትደፋር..."
      ]
     },
     "execution_count": 33,
     "metadata": {},
     "output_type": "execute_result"
    }
   ],
   "source": [
    "filtered_df.head()"
   ]
  },
  {
   "cell_type": "code",
   "execution_count": 34,
   "metadata": {},
   "outputs": [],
   "source": [
    "filtered_df.to_csv(\"../data/Amharic_data.csv\", index=False, encoding=\"utf-8\")"
   ]
  },
  {
   "cell_type": "code",
   "execution_count": 35,
   "metadata": {},
   "outputs": [
    {
     "data": {
      "text/plain": [
       "'           2200 ዋጋ 2700 ብር ውስን ፍሬ ነው ያለው አድራሻ መገናኛመሰረትደፋርሞልሁለተኛፎቅ ቢሮ ቁ 0506 0902660722 0928460606 በ ለማዘዝ ይጠቀሙ   ለተጨማሪ ማብራሪያ የቴሌግራም ገፃችን '"
      ]
     },
     "execution_count": 35,
     "metadata": {},
     "output_type": "execute_result"
    }
   ],
   "source": [
    "filtered_df.iloc[0][\"cleaned_text\"]"
   ]
  },
  {
   "cell_type": "code",
   "execution_count": 37,
   "metadata": {},
   "outputs": [
    {
     "name": "stdout",
     "output_type": "stream",
     "text": [
      "Collecting amseg\n",
      "  Downloading amseg-2.3.tar.gz (11 kB)\n",
      "  Preparing metadata (setup.py): started\n",
      "  Preparing metadata (setup.py): finished with status 'done'\n",
      "Building wheels for collected packages: amseg\n",
      "  Building wheel for amseg (setup.py): started\n",
      "  Building wheel for amseg (setup.py): finished with status 'done'\n",
      "  Created wheel for amseg: filename=amseg-2.3-py3-none-any.whl size=9881 sha256=9d3cd0c2b11ba1e83940a7312b862c9a944718761c64f770f8ae3adc8f4816ca\n",
      "  Stored in directory: c:\\users\\getde\\appdata\\local\\pip\\cache\\wheels\\a5\\71\\b1\\7c036d0e535107c97c57d920c95cbe639947cb98dfa93172d9\n",
      "Successfully built amseg\n",
      "Installing collected packages: amseg\n",
      "Successfully installed amseg-2.3\n",
      "Note: you may need to restart the kernel to use updated packages.\n"
     ]
    },
    {
     "name": "stderr",
     "output_type": "stream",
     "text": [
      "  DEPRECATION: Building 'amseg' using the legacy setup.py bdist_wheel mechanism, which will be removed in a future version. pip 25.3 will enforce this behaviour change. A possible replacement is to use the standardized build interface by setting the `--use-pep517` option, (possibly combined with `--no-build-isolation`), or adding a `pyproject.toml` file to the source tree of 'amseg'. Discussion can be found at https://github.com/pypa/pip/issues/6334\n"
     ]
    }
   ],
   "source": [
    "%pip install amseg\n"
   ]
  },
  {
   "cell_type": "code",
   "execution_count": 39,
   "metadata": {},
   "outputs": [
    {
     "name": "stdout",
     "output_type": "stream",
     "text": [
      "Note: you may need to restart the kernel to use updated packages.\n"
     ]
    },
    {
     "name": "stderr",
     "output_type": "stream",
     "text": [
      "ERROR: Could not find a version that satisfies the requirement pdftoimage (from versions: none)\n",
      "ERROR: No matching distribution found for pdftoimage\n"
     ]
    }
   ],
   "source": [
    "%pip install pdftoimage\n"
   ]
  },
  {
   "cell_type": "code",
   "execution_count": 40,
   "metadata": {},
   "outputs": [],
   "source": [
    "from amseg.amharicSegmenter import AmharicSegmenter"
   ]
  },
  {
   "cell_type": "code",
   "execution_count": 41,
   "metadata": {},
   "outputs": [],
   "source": [
    "sent_punct = []\n",
    "word_punct = []\n",
    "segmenter = AmharicSegmenter(sent_punct, word_punct)\n",
    "\n",
    "\n",
    "# Define the function to tokenize Amharic text\n",
    "def tokenize_amharic(text):\n",
    "    words = segmenter.amharic_tokenizer(text)  # Tokenizing the text into words\n",
    "    return words  # Returning the tokenized words"
   ]
  },
  {
   "cell_type": "code",
   "execution_count": 42,
   "metadata": {},
   "outputs": [
    {
     "name": "stdout",
     "output_type": "stream",
     "text": [
      "                                        cleaned_text  \\\n",
      "0             2200 ዋጋ 2700 ብር ውስን ፍሬ ነው ያለው አድራሻ ...   \n",
      "1  3   በማንኛውም ጠርሙስ ጫፍ የሚገጠም ለዘይት እና መሰል ነገሮች መቀነሻ...   \n",
      "2  3   በማንኛውም ጠርሙስ ጫፍ የሚገጠም ለዘይት እና መሰል ነገሮች መቀነሻ...   \n",
      "3  1     ዋጋ 400 ብር ውስን ፍሬ ነው ያለው አድራሻ መገናኛመሰረትደፋር...   \n",
      "4  1     ዋጋ 400 ብር ውስን ፍሬ ነው ያለው አድራሻ መገናኛመሰረትደፋር...   \n",
      "\n",
      "                                            tokenize  \n",
      "0  [2200, ዋጋ, 2700, ብር, ውስን, ፍሬ, ነው, ያለው, አድራሻ, መ...  \n",
      "1  [3, በማንኛውም, ጠርሙስ, ጫፍ, የሚገጠም, ለዘይት, እና, መሰል, ነገ...  \n",
      "2  [3, በማንኛውም, ጠርሙስ, ጫፍ, የሚገጠም, ለዘይት, እና, መሰል, ነገ...  \n",
      "3  [1, ዋጋ, 400, ብር, ውስን, ፍሬ, ነው, ያለው, አድራሻ, መገናኛመ...  \n",
      "4  [1, ዋጋ, 400, ብር, ውስን, ፍሬ, ነው, ያለው, አድራሻ, መገናኛመ...  \n"
     ]
    },
    {
     "name": "stderr",
     "output_type": "stream",
     "text": [
      "C:\\Users\\getde\\AppData\\Local\\Temp\\ipykernel_28380\\1021684062.py:2: SettingWithCopyWarning: \n",
      "A value is trying to be set on a copy of a slice from a DataFrame.\n",
      "Try using .loc[row_indexer,col_indexer] = value instead\n",
      "\n",
      "See the caveats in the documentation: https://pandas.pydata.org/pandas-docs/stable/user_guide/indexing.html#returning-a-view-versus-a-copy\n",
      "  filtered_df[\"tokenize\"] = filtered_df[\"cleaned_text\"].apply(tokenize_amharic)\n"
     ]
    }
   ],
   "source": [
    "# Apply the function to the 'cleaned_text' column to create a new 'tokenize' column\n",
    "filtered_df[\"tokenize\"] = filtered_df[\"cleaned_text\"].apply(tokenize_amharic)\n",
    "\n",
    "# Display the updated DataFrame\n",
    "print(filtered_df.head())"
   ]
  },
  {
   "cell_type": "code",
   "execution_count": 43,
   "metadata": {},
   "outputs": [
    {
     "data": {
      "text/plain": [
       "'           2200 ዋጋ 2700 ብር ውስን ፍሬ ነው ያለው አድራሻ መገናኛመሰረትደፋርሞልሁለተኛፎቅ ቢሮ ቁ 0506 0902660722 0928460606 በ ለማዘዝ ይጠቀሙ   ለተጨማሪ ማብራሪያ የቴሌግራም ገፃችን '"
      ]
     },
     "execution_count": 43,
     "metadata": {},
     "output_type": "execute_result"
    }
   ],
   "source": [
    "filtered_df.iloc[0][\"cleaned_text\"]"
   ]
  },
  {
   "cell_type": "code",
   "execution_count": 44,
   "metadata": {},
   "outputs": [],
   "source": [
    "filtered_df.to_csv(\"../data/tokenized_data.csv\")"
   ]
  },
  {
   "cell_type": "code",
   "execution_count": null,
   "metadata": {},
   "outputs": [],
   "source": []
  }
 ],
 "metadata": {
  "kernelspec": {
   "display_name": ".desvenv",
   "language": "python",
   "name": "python3"
  },
  "language_info": {
   "codemirror_mode": {
    "name": "ipython",
    "version": 3
   },
   "file_extension": ".py",
   "mimetype": "text/x-python",
   "name": "python",
   "nbconvert_exporter": "python",
   "pygments_lexer": "ipython3",
   "version": "3.13.3"
  }
 },
 "nbformat": 4,
 "nbformat_minor": 2
}
