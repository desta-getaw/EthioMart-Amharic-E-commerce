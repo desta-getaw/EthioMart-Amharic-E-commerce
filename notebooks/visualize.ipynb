{
 "cells": [
  {
   "cell_type": "code",
   "execution_count": 2,
   "id": "cfdad06a",
   "metadata": {},
   "outputs": [
    {
     "name": "stdout",
     "output_type": "stream",
     "text": [
      "Collecting wordcloud\n",
      "  Using cached wordcloud-1.9.4-cp313-cp313-win_amd64.whl.metadata (3.5 kB)\n",
      "Requirement already satisfied: numpy>=1.6.1 in d:\\kifiya ai master training program 5 6 &7\\week-4\\ethiomart-amharic-e-commerce\\.desvenv\\lib\\site-packages (from wordcloud) (2.3.0)\n",
      "Requirement already satisfied: pillow in d:\\kifiya ai master training program 5 6 &7\\week-4\\ethiomart-amharic-e-commerce\\.desvenv\\lib\\site-packages (from wordcloud) (11.2.1)\n",
      "Requirement already satisfied: matplotlib in d:\\kifiya ai master training program 5 6 &7\\week-4\\ethiomart-amharic-e-commerce\\.desvenv\\lib\\site-packages (from wordcloud) (3.10.3)\n",
      "Requirement already satisfied: contourpy>=1.0.1 in d:\\kifiya ai master training program 5 6 &7\\week-4\\ethiomart-amharic-e-commerce\\.desvenv\\lib\\site-packages (from matplotlib->wordcloud) (1.3.2)\n",
      "Requirement already satisfied: cycler>=0.10 in d:\\kifiya ai master training program 5 6 &7\\week-4\\ethiomart-amharic-e-commerce\\.desvenv\\lib\\site-packages (from matplotlib->wordcloud) (0.12.1)\n",
      "Requirement already satisfied: fonttools>=4.22.0 in d:\\kifiya ai master training program 5 6 &7\\week-4\\ethiomart-amharic-e-commerce\\.desvenv\\lib\\site-packages (from matplotlib->wordcloud) (4.58.4)\n",
      "Requirement already satisfied: kiwisolver>=1.3.1 in d:\\kifiya ai master training program 5 6 &7\\week-4\\ethiomart-amharic-e-commerce\\.desvenv\\lib\\site-packages (from matplotlib->wordcloud) (1.4.8)\n",
      "Requirement already satisfied: packaging>=20.0 in d:\\kifiya ai master training program 5 6 &7\\week-4\\ethiomart-amharic-e-commerce\\.desvenv\\lib\\site-packages (from matplotlib->wordcloud) (25.0)\n",
      "Requirement already satisfied: pyparsing>=2.3.1 in d:\\kifiya ai master training program 5 6 &7\\week-4\\ethiomart-amharic-e-commerce\\.desvenv\\lib\\site-packages (from matplotlib->wordcloud) (3.2.3)\n",
      "Requirement already satisfied: python-dateutil>=2.7 in d:\\kifiya ai master training program 5 6 &7\\week-4\\ethiomart-amharic-e-commerce\\.desvenv\\lib\\site-packages (from matplotlib->wordcloud) (2.9.0.post0)\n",
      "Requirement already satisfied: six>=1.5 in d:\\kifiya ai master training program 5 6 &7\\week-4\\ethiomart-amharic-e-commerce\\.desvenv\\lib\\site-packages (from python-dateutil>=2.7->matplotlib->wordcloud) (1.17.0)\n",
      "Using cached wordcloud-1.9.4-cp313-cp313-win_amd64.whl (300 kB)\n",
      "Installing collected packages: wordcloud\n",
      "Successfully installed wordcloud-1.9.4\n",
      "Note: you may need to restart the kernel to use updated packages.\n"
     ]
    }
   ],
   "source": [
    "%pip install wordcloud\n"
   ]
  },
  {
   "cell_type": "code",
   "execution_count": 23,
   "id": "b410246e",
   "metadata": {},
   "outputs": [
    {
     "name": "stdout",
     "output_type": "stream",
     "text": [
      "Skipping channel distribution plot: 'channel_address'\n",
      "Skipping Gantt chart: 'channel_address'\n",
      "Skipping hist/box plots: No valid columns found.\n",
      "Skipping word cloud: 'cleaned_message'\n",
      "Skipping top tokens plot: 'token'\n",
      "Skipping label distribution: 'label'\n"
     ]
    }
   ],
   "source": [
    "# notebooks/visualize.ipynb (Python script version of the notebook)\n",
    "\n",
    "import sys\n",
    "sys.path.append('..')  # Add parent folder to import from scripts\n",
    "\n",
    "from scripts.visualize import (\n",
    "    plot_channel_distribution,\n",
    "    plot_gantt_chart,\n",
    "    generate_hist_box_plots,\n",
    "    plot_word_cloud,\n",
    "    plot_top_tokens,\n",
    "    plot_label_distribution,\n",
    ")\n",
    "\n",
    "import pandas as pd\n",
    "import matplotlib.pyplot as plt\n",
    "\n",
    "# Load data from CSV\n",
    "try:\n",
    "    df = pd.read_csv('../data/preprocessed_data.csv')\n",
    "except FileNotFoundError:\n",
    "    raise FileNotFoundError(\"Ensure '../data/tokenized_data.csv' exists.\")\n",
    "\n",
    "# Rename if needed for consistency with visualization functions\n",
    "if 'channel' in df.columns and 'channel_address' not in df.columns:\n",
    "    df = df.rename(columns={'channel': 'channel_address'})\n",
    "\n",
    "if 'timestamp' in df.columns and 'date' not in df.columns:\n",
    "    df = df.rename(columns={'timestamp': 'date'})\n",
    "\n",
    "# Plot 1: Channel Distribution\n",
    "try:\n",
    "    plot_channel_distribution(df)\n",
    "except KeyError as e:\n",
    "    print(f\"Skipping channel distribution plot: {e}\")\n",
    "\n",
    "# Plot 2: Gantt Chart\n",
    "try:\n",
    "    plot_gantt_chart(df)\n",
    "except KeyError as e:\n",
    "    print(f\"Skipping Gantt chart: {e}\")\n",
    "\n",
    "# Plot 3: Histograms and Boxplots\n",
    "plot_data = []\n",
    "if 'message_length' in df.columns:\n",
    "    plot_data.append({\"title\": \"Length Distribution\", \"column\": \"message_length\", \"label\": \"Length\"})\n",
    "if 'response_time' in df.columns:\n",
    "    plot_data.append({\"title\": \"Response Time\", \"column\": \"response_time\", \"label\": \"Time (seconds)\"})\n",
    "\n",
    "if plot_data:\n",
    "    try:\n",
    "        generate_hist_box_plots(df, plot_data)\n",
    "    except KeyError as e:\n",
    "        print(f\"Skipping hist/box plots: {e}\")\n",
    "else:\n",
    "    print(\"Skipping hist/box plots: No valid columns found.\")\n",
    "\n",
    "# Plot 4: Word Cloud\n",
    "try:\n",
    "    plot_word_cloud(df, language='amharic')\n",
    "except KeyError as e:\n",
    "    print(f\"Skipping word cloud: {e}\")\n",
    "\n",
    "# Plot 5: Top Tokens\n",
    "try:\n",
    "    plot_top_tokens(df, top_n=20)\n",
    "except KeyError as e:\n",
    "    print(f\"Skipping top tokens plot: {e}\")\n",
    "\n",
    "# Plot 6: Label Distribution\n",
    "try:\n",
    "    plot_label_distribution(df)\n",
    "except KeyError as e:\n",
    "    print(f\"Skipping label distribution: {e}\")\n",
    "\n",
    "# Show any remaining figures\n",
    "plt.show()\n"
   ]
  },
  {
   "cell_type": "code",
   "execution_count": 24,
   "id": "361aabc6",
   "metadata": {},
   "outputs": [],
   "source": [
    "%matplotlib inline\n",
    "\n",
    "import sys\n",
    "sys.path.append('..')\n",
    "\n",
    "from scripts.visualize import (\n",
    "    plot_channel_distribution,\n",
    "    plot_gantt_chart,\n",
    "    generate_hist_box_plots,\n",
    "    plot_word_cloud,\n",
    "    plot_top_tokens,\n",
    "    plot_label_distribution,\n",
    ")\n",
    "\n",
    "import pandas as pd\n",
    "\n",
    "# Load your data\n",
    "# df = pd.read_csv('your_data.csv')\n",
    "\n",
    "# Example call:\n",
    "# plot_channel_distribution(df)\n"
   ]
  },
  {
   "cell_type": "code",
   "execution_count": 18,
   "id": "8dc0fb1c",
   "metadata": {},
   "outputs": [
    {
     "name": "stdout",
     "output_type": "stream",
     "text": [
      "Available columns: ['Unnamed: 0', 'cleaned_text', 'tokenize']\n"
     ]
    },
    {
     "ename": "IndexError",
     "evalue": "too many indices for array: array is 1-dimensional, but 2 were indexed",
     "output_type": "error",
     "traceback": [
      "\u001b[31m---------------------------------------------------------------------------\u001b[39m",
      "\u001b[31mIndexError\u001b[39m                                Traceback (most recent call last)",
      "\u001b[36mCell\u001b[39m\u001b[36m \u001b[39m\u001b[32mIn[18]\u001b[39m\u001b[32m, line 38\u001b[39m\n\u001b[32m     33\u001b[39m \u001b[38;5;66;03m# Histogram and boxplot configuration\u001b[39;00m\n\u001b[32m     34\u001b[39m plot_data = [\n\u001b[32m     35\u001b[39m     {\u001b[33m\"\u001b[39m\u001b[33mtitle\u001b[39m\u001b[33m\"\u001b[39m: \u001b[33m\"\u001b[39m\u001b[33mLength Distribution\u001b[39m\u001b[33m\"\u001b[39m, \u001b[33m\"\u001b[39m\u001b[33mcolumn\u001b[39m\u001b[33m\"\u001b[39m: \u001b[33m\"\u001b[39m\u001b[33mmessage_length\u001b[39m\u001b[33m\"\u001b[39m, \u001b[33m\"\u001b[39m\u001b[33mlabel\u001b[39m\u001b[33m\"\u001b[39m: \u001b[33m\"\u001b[39m\u001b[33mLength\u001b[39m\u001b[33m\"\u001b[39m},\n\u001b[32m     36\u001b[39m     \u001b[38;5;66;03m# {\"title\": \"Response Time\", \"column\": \"response_time\", \"label\": \"Time (seconds)\"},  # Removed because column does not exist\u001b[39;00m\n\u001b[32m     37\u001b[39m ]\n\u001b[32m---> \u001b[39m\u001b[32m38\u001b[39m \u001b[43mgenerate_hist_box_plots\u001b[49m\u001b[43m(\u001b[49m\u001b[43mdf\u001b[49m\u001b[43m,\u001b[49m\u001b[43m \u001b[49m\u001b[43mplot_data\u001b[49m\u001b[43m)\u001b[49m\n\u001b[32m     40\u001b[39m \u001b[38;5;66;03m# Flatten the list of tokens for word cloud and top tokens\u001b[39;00m\n\u001b[32m     41\u001b[39m all_tokens = [token \u001b[38;5;28;01mfor\u001b[39;00m sublist \u001b[38;5;129;01min\u001b[39;00m df[\u001b[33m'\u001b[39m\u001b[33mtokenize\u001b[39m\u001b[33m'\u001b[39m] \u001b[38;5;28;01mfor\u001b[39;00m token \u001b[38;5;129;01min\u001b[39;00m sublist]\n",
      "\u001b[36mFile \u001b[39m\u001b[32md:\\Kifiya AI Master Training Program 5 6 &7\\week-4\\EthioMart-Amharic-E-commerce\\notebooks\\..\\scripts\\visualize.py:86\u001b[39m, in \u001b[36mgenerate_hist_box_plots\u001b[39m\u001b[34m(df, plot_data)\u001b[39m\n\u001b[32m     77\u001b[39m fig, axes = plt.subplots(\n\u001b[32m     78\u001b[39m     nrows=\u001b[32m2\u001b[39m,\n\u001b[32m     79\u001b[39m     ncols=num_cols,\n\u001b[32m   (...)\u001b[39m\u001b[32m     82\u001b[39m     gridspec_kw={\u001b[33m\"\u001b[39m\u001b[33mheight_ratios\u001b[39m\u001b[33m\"\u001b[39m: [\u001b[32m7\u001b[39m, \u001b[32m0.4\u001b[39m]},\n\u001b[32m     83\u001b[39m )\n\u001b[32m     85\u001b[39m \u001b[38;5;28;01mfor\u001b[39;00m i \u001b[38;5;129;01min\u001b[39;00m \u001b[38;5;28mrange\u001b[39m(num_cols):\n\u001b[32m---> \u001b[39m\u001b[32m86\u001b[39m     sns.histplot(df[plot_data[i][\u001b[33m\"\u001b[39m\u001b[33mcolumn\u001b[39m\u001b[33m\"\u001b[39m]], kde=\u001b[38;5;28;01mTrue\u001b[39;00m, ax=\u001b[43maxes\u001b[49m\u001b[43m[\u001b[49m\u001b[32;43m0\u001b[39;49m\u001b[43m,\u001b[49m\u001b[43m \u001b[49m\u001b[43mi\u001b[49m\u001b[43m]\u001b[49m)\n\u001b[32m     87\u001b[39m     sns.boxplot(x=df[plot_data[i][\u001b[33m\"\u001b[39m\u001b[33mcolumn\u001b[39m\u001b[33m\"\u001b[39m]], ax=axes[\u001b[32m1\u001b[39m, i], orient=\u001b[33m\"\u001b[39m\u001b[33mh\u001b[39m\u001b[33m\"\u001b[39m)\n\u001b[32m     88\u001b[39m     axes[\u001b[32m1\u001b[39m, i].set_xlabel(plot_data[i][\u001b[33m\"\u001b[39m\u001b[33mlabel\u001b[39m\u001b[33m\"\u001b[39m], fontsize=\u001b[32m13\u001b[39m)\n",
      "\u001b[31mIndexError\u001b[39m: too many indices for array: array is 1-dimensional, but 2 were indexed"
     ]
    },
    {
     "data": {
      "image/png": "[encoded data removed]",
      "text/plain": [
       "<Figure size 1400x500 with 2 Axes>"
      ]
     },
     "metadata": {},
     "output_type": "display_data"
    }
   ],
   "source": [
    "%matplotlib inline\n",
    "\n",
    "import sys\n",
    "sys.path.append('..')  # Add parent dir to access scripts\n",
    "\n",
    "import pandas as pd\n",
    "\n",
    "from scripts.visualize import (\n",
    "    plot_channel_distribution,\n",
    "    plot_gantt_chart,\n",
    "    generate_hist_box_plots,\n",
    "    plot_word_cloud,\n",
    "    plot_top_tokens,\n",
    "    plot_label_distribution,\n",
    ")\n",
    "\n",
    "# Load the dataset\n",
    "df = pd.read_csv('../data/tokenized_data.csv')  # adjust path if needed\n",
    "\n",
    "# Inspect available columns to avoid KeyErrors\n",
    "print(\"Available columns:\", df.columns.tolist())\n",
    "\n",
    "# No need to rename columns since 'channel' and 'timestamp' do not exist in this df\n",
    "\n",
    "# Only call plot functions that use available columns\n",
    "# plot_channel_distribution(df)  # Skipped: requires 'channel_address' column\n",
    "\n",
    "# plot_gantt_chart(df)  # Skipped: requires 'date' column\n",
    "\n",
    "# Add 'message_length' column based on the number of tokens in each row\n",
    "df['message_length'] = df['tokenize'].apply(len)\n",
    "\n",
    "# Histogram and boxplot configuration\n",
    "plot_data = [\n",
    "    {\"title\": \"Length Distribution\", \"column\": \"message_length\", \"label\": \"Length\"},\n",
    "    # {\"title\": \"Response Time\", \"column\": \"response_time\", \"label\": \"Time (seconds)\"},  # Removed because column does not exist\n",
    "]\n",
    "generate_hist_box_plots(df, plot_data)\n",
    "\n",
    "# Flatten the list of tokens for word cloud and top tokens\n",
    "all_tokens = [token for sublist in df['tokenize'] for token in sublist]\n",
    "\n",
    "# Generate Amharic word cloud\n",
    "plot_word_cloud(all_tokens, language='amharic')\n",
    "\n",
    "# Plot top tokens (adjust font path inside scripts/visualize.py if needed)\n",
    "plot_top_tokens(all_tokens, top_n=20)\n",
    "\n",
    "# Plot label distribution\n",
    "plot_label_distribution(df)\n"
   ]
  }
 ],
 "metadata": {
  "kernelspec": {
   "display_name": ".desvenv",
   "language": "python",
   "name": "python3"
  },
  "language_info": {
   "codemirror_mode": {
    "name": "ipython",
    "version": 3
   },
   "file_extension": ".py",
   "mimetype": "text/x-python",
   "name": "python",
   "nbconvert_exporter": "python",
   "pygments_lexer": "ipython3",
   "version": "3.13.3"
  }
 },
 "nbformat": 4,
 "nbformat_minor": 5
}
